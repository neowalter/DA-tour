{
  "nbformat": 4,
  "nbformat_minor": 0,
  "metadata": {
    "colab": {
      "name": "charpter3.ipynb",
      "provenance": []
    },
    "kernelspec": {
      "name": "python3",
      "display_name": "Python 3"
    }
  },
  "cells": [
    {
      "cell_type": "code",
      "metadata": {
        "id": "AWqSOwtB2FRX",
        "colab_type": "code",
        "colab": {
          "base_uri": "https://localhost:8080/",
          "height": 204
        },
        "outputId": "f7ee114c-70a0-46a9-debc-ba7943ba0eab"
      },
      "source": [
        "import pandas as pd\n",
        "\n",
        "data_filename = 'https://raw.githubusercontent.com/neowalter/DA-tour/master/charpter3/basketball.csv' \n",
        "dataset = pd.read_csv(data_filename)\n",
        "dataset.head(5)"
      ],
      "execution_count": 3,
      "outputs": [
        {
          "output_type": "execute_result",
          "data": {
            "text/html": [
              "<div>\n",
              "<style scoped>\n",
              "    .dataframe tbody tr th:only-of-type {\n",
              "        vertical-align: middle;\n",
              "    }\n",
              "\n",
              "    .dataframe tbody tr th {\n",
              "        vertical-align: top;\n",
              "    }\n",
              "\n",
              "    .dataframe thead th {\n",
              "        text-align: right;\n",
              "    }\n",
              "</style>\n",
              "<table border=\"1\" class=\"dataframe\">\n",
              "  <thead>\n",
              "    <tr style=\"text-align: right;\">\n",
              "      <th></th>\n",
              "      <th>Date</th>\n",
              "      <th>Start (ET)</th>\n",
              "      <th>Visitor/Neutral</th>\n",
              "      <th>PTS</th>\n",
              "      <th>Home/Neutral</th>\n",
              "      <th>PTS.1</th>\n",
              "      <th>Unnamed: 6</th>\n",
              "      <th>Unnamed: 7</th>\n",
              "      <th>Attend.</th>\n",
              "      <th>Notes</th>\n",
              "    </tr>\n",
              "  </thead>\n",
              "  <tbody>\n",
              "    <tr>\n",
              "      <th>0</th>\n",
              "      <td>Tue Oct 27 2015</td>\n",
              "      <td>8:00p</td>\n",
              "      <td>Cleveland Cavaliers</td>\n",
              "      <td>95</td>\n",
              "      <td>Chicago Bulls</td>\n",
              "      <td>97</td>\n",
              "      <td>Box Score</td>\n",
              "      <td>NaN</td>\n",
              "      <td>21957</td>\n",
              "      <td>NaN</td>\n",
              "    </tr>\n",
              "    <tr>\n",
              "      <th>1</th>\n",
              "      <td>Tue Oct 27 2015</td>\n",
              "      <td>8:00p</td>\n",
              "      <td>Detroit Pistons</td>\n",
              "      <td>106</td>\n",
              "      <td>Atlanta Hawks</td>\n",
              "      <td>94</td>\n",
              "      <td>Box Score</td>\n",
              "      <td>NaN</td>\n",
              "      <td>19187</td>\n",
              "      <td>NaN</td>\n",
              "    </tr>\n",
              "    <tr>\n",
              "      <th>2</th>\n",
              "      <td>Tue Oct 27 2015</td>\n",
              "      <td>10:30p</td>\n",
              "      <td>New Orleans Pelicans</td>\n",
              "      <td>95</td>\n",
              "      <td>Golden State Warriors</td>\n",
              "      <td>111</td>\n",
              "      <td>Box Score</td>\n",
              "      <td>NaN</td>\n",
              "      <td>19596</td>\n",
              "      <td>NaN</td>\n",
              "    </tr>\n",
              "    <tr>\n",
              "      <th>3</th>\n",
              "      <td>Wed Oct 28 2015</td>\n",
              "      <td>7:00p</td>\n",
              "      <td>Washington Wizards</td>\n",
              "      <td>88</td>\n",
              "      <td>Orlando Magic</td>\n",
              "      <td>87</td>\n",
              "      <td>Box Score</td>\n",
              "      <td>NaN</td>\n",
              "      <td>18846</td>\n",
              "      <td>NaN</td>\n",
              "    </tr>\n",
              "    <tr>\n",
              "      <th>4</th>\n",
              "      <td>Wed Oct 28 2015</td>\n",
              "      <td>7:30p</td>\n",
              "      <td>Philadelphia 76ers</td>\n",
              "      <td>95</td>\n",
              "      <td>Boston Celtics</td>\n",
              "      <td>112</td>\n",
              "      <td>Box Score</td>\n",
              "      <td>NaN</td>\n",
              "      <td>18624</td>\n",
              "      <td>NaN</td>\n",
              "    </tr>\n",
              "  </tbody>\n",
              "</table>\n",
              "</div>"
            ],
            "text/plain": [
              "              Date Start (ET)       Visitor/Neutral  ...  Unnamed: 7 Attend.  Notes\n",
              "0  Tue Oct 27 2015      8:00p   Cleveland Cavaliers  ...         NaN   21957    NaN\n",
              "1  Tue Oct 27 2015      8:00p       Detroit Pistons  ...         NaN   19187    NaN\n",
              "2  Tue Oct 27 2015     10:30p  New Orleans Pelicans  ...         NaN   19596    NaN\n",
              "3  Wed Oct 28 2015      7:00p    Washington Wizards  ...         NaN   18846    NaN\n",
              "4  Wed Oct 28 2015      7:30p    Philadelphia 76ers  ...         NaN   18624    NaN\n",
              "\n",
              "[5 rows x 10 columns]"
            ]
          },
          "metadata": {
            "tags": []
          },
          "execution_count": 3
        }
      ]
    },
    {
      "cell_type": "code",
      "metadata": {
        "id": "pqjYM62T7FE7",
        "colab_type": "code",
        "colab": {
          "base_uri": "https://localhost:8080/",
          "height": 204
        },
        "outputId": "9126b0f1-94dc-4766-e65b-2fc8e0058598"
      },
      "source": [
        "dataset = pd.read_csv(data_filename, parse_dates=[\"Date\"])\n",
        "dataset.drop(columns='Attend.', inplace=True)\n",
        "dataset.columns = [\"Date\", \"Start (ET)\", \"Visitor Team\", \"VisitorPts\", \"Home Team\", \"HomePts\", \"OT?\", \"Score type\", \"Notes\"]\n",
        "dataset.head()"
      ],
      "execution_count": 5,
      "outputs": [
        {
          "output_type": "execute_result",
          "data": {
            "text/html": [
              "<div>\n",
              "<style scoped>\n",
              "    .dataframe tbody tr th:only-of-type {\n",
              "        vertical-align: middle;\n",
              "    }\n",
              "\n",
              "    .dataframe tbody tr th {\n",
              "        vertical-align: top;\n",
              "    }\n",
              "\n",
              "    .dataframe thead th {\n",
              "        text-align: right;\n",
              "    }\n",
              "</style>\n",
              "<table border=\"1\" class=\"dataframe\">\n",
              "  <thead>\n",
              "    <tr style=\"text-align: right;\">\n",
              "      <th></th>\n",
              "      <th>Date</th>\n",
              "      <th>Start (ET)</th>\n",
              "      <th>Visitor Team</th>\n",
              "      <th>VisitorPts</th>\n",
              "      <th>Home Team</th>\n",
              "      <th>HomePts</th>\n",
              "      <th>OT?</th>\n",
              "      <th>Score type</th>\n",
              "      <th>Notes</th>\n",
              "    </tr>\n",
              "  </thead>\n",
              "  <tbody>\n",
              "    <tr>\n",
              "      <th>0</th>\n",
              "      <td>2015-10-27</td>\n",
              "      <td>8:00p</td>\n",
              "      <td>Cleveland Cavaliers</td>\n",
              "      <td>95</td>\n",
              "      <td>Chicago Bulls</td>\n",
              "      <td>97</td>\n",
              "      <td>Box Score</td>\n",
              "      <td>NaN</td>\n",
              "      <td>NaN</td>\n",
              "    </tr>\n",
              "    <tr>\n",
              "      <th>1</th>\n",
              "      <td>2015-10-27</td>\n",
              "      <td>8:00p</td>\n",
              "      <td>Detroit Pistons</td>\n",
              "      <td>106</td>\n",
              "      <td>Atlanta Hawks</td>\n",
              "      <td>94</td>\n",
              "      <td>Box Score</td>\n",
              "      <td>NaN</td>\n",
              "      <td>NaN</td>\n",
              "    </tr>\n",
              "    <tr>\n",
              "      <th>2</th>\n",
              "      <td>2015-10-27</td>\n",
              "      <td>10:30p</td>\n",
              "      <td>New Orleans Pelicans</td>\n",
              "      <td>95</td>\n",
              "      <td>Golden State Warriors</td>\n",
              "      <td>111</td>\n",
              "      <td>Box Score</td>\n",
              "      <td>NaN</td>\n",
              "      <td>NaN</td>\n",
              "    </tr>\n",
              "    <tr>\n",
              "      <th>3</th>\n",
              "      <td>2015-10-28</td>\n",
              "      <td>7:00p</td>\n",
              "      <td>Washington Wizards</td>\n",
              "      <td>88</td>\n",
              "      <td>Orlando Magic</td>\n",
              "      <td>87</td>\n",
              "      <td>Box Score</td>\n",
              "      <td>NaN</td>\n",
              "      <td>NaN</td>\n",
              "    </tr>\n",
              "    <tr>\n",
              "      <th>4</th>\n",
              "      <td>2015-10-28</td>\n",
              "      <td>7:30p</td>\n",
              "      <td>Philadelphia 76ers</td>\n",
              "      <td>95</td>\n",
              "      <td>Boston Celtics</td>\n",
              "      <td>112</td>\n",
              "      <td>Box Score</td>\n",
              "      <td>NaN</td>\n",
              "      <td>NaN</td>\n",
              "    </tr>\n",
              "  </tbody>\n",
              "</table>\n",
              "</div>"
            ],
            "text/plain": [
              "        Date Start (ET)          Visitor Team  ...        OT? Score type  Notes\n",
              "0 2015-10-27      8:00p   Cleveland Cavaliers  ...  Box Score        NaN    NaN\n",
              "1 2015-10-27      8:00p       Detroit Pistons  ...  Box Score        NaN    NaN\n",
              "2 2015-10-27     10:30p  New Orleans Pelicans  ...  Box Score        NaN    NaN\n",
              "3 2015-10-28      7:00p    Washington Wizards  ...  Box Score        NaN    NaN\n",
              "4 2015-10-28      7:30p    Philadelphia 76ers  ...  Box Score        NaN    NaN\n",
              "\n",
              "[5 rows x 9 columns]"
            ]
          },
          "metadata": {
            "tags": []
          },
          "execution_count": 5
        }
      ]
    },
    {
      "cell_type": "code",
      "metadata": {
        "id": "rAE-GlJq81_8",
        "colab_type": "code",
        "colab": {
          "base_uri": "https://localhost:8080/",
          "height": 187
        },
        "outputId": "2a3a1cca-e502-45c9-e76a-c17c5464d638"
      },
      "source": [
        "print(dataset.dtypes)"
      ],
      "execution_count": 6,
      "outputs": [
        {
          "output_type": "stream",
          "text": [
            "Date            datetime64[ns]\n",
            "Start (ET)              object\n",
            "Visitor Team            object\n",
            "VisitorPts               int64\n",
            "Home Team               object\n",
            "HomePts                  int64\n",
            "OT?                     object\n",
            "Score type              object\n",
            "Notes                   object\n",
            "dtype: object\n"
          ],
          "name": "stdout"
        }
      ]
    },
    {
      "cell_type": "code",
      "metadata": {
        "id": "SaPo4MPzCUmT",
        "colab_type": "code",
        "colab": {}
      },
      "source": [
        "dataset[\"HomeWin\"] = dataset[\"VisitorPts\"] < dataset[\"HomePts\"]\n",
        "y_true = dataset[\"HomeWin\"].values"
      ],
      "execution_count": 7,
      "outputs": []
    },
    {
      "cell_type": "code",
      "metadata": {
        "id": "OljEx60mDrK8",
        "colab_type": "code",
        "colab": {
          "base_uri": "https://localhost:8080/",
          "height": 34
        },
        "outputId": "99df13c1-4616-40c6-ba55-e2c507e3a45e"
      },
      "source": [
        "dataset[\"HomeWin\"].mean()"
      ],
      "execution_count": 8,
      "outputs": [
        {
          "output_type": "execute_result",
          "data": {
            "text/plain": [
              "0.5942249240121581"
            ]
          },
          "metadata": {
            "tags": []
          },
          "execution_count": 8
        }
      ]
    },
    {
      "cell_type": "code",
      "metadata": {
        "id": "10i9V4-nF7UV",
        "colab_type": "code",
        "colab": {}
      },
      "source": [
        "from collections import defaultdict\n",
        "won_last = defaultdict(int)\n",
        "dataset[\"HomeLastWin\"] = 0\n",
        "dataset[\"VisitorLastWin\"] = 0"
      ],
      "execution_count": 9,
      "outputs": []
    },
    {
      "cell_type": "code",
      "metadata": {
        "id": "Me2J0ydmHj3p",
        "colab_type": "code",
        "colab": {}
      },
      "source": [
        "# 鉴于我们这里是对时序进行操作的\n",
        "# 对于非时序排列的数据需要用\n",
        "# dataset.sort(\"Date\").iterrows() \n",
        "for index, row in dataset.iterrows():\n",
        "    home_team = row[\"Home Team\"]\n",
        "    visitor_team = row[\"Visitor Team\"]\n",
        "    row[\"HomeLastWin\"] = won_last[home_team]\n",
        "    dataset.at[index, \"HomeLastWin\"] = won_last[home_team]\n",
        "    dataset.at[index, \"VisitorLastWin\"] = won_last[visitor_team]\n",
        "\n",
        "    won_last[home_team] = int(row[\"HomeWin\"])\n",
        "    won_last[visitor_team] = 1 - int(row[\"HomeWin\"])"
      ],
      "execution_count": 10,
      "outputs": []
    },
    {
      "cell_type": "code",
      "metadata": {
        "id": "DDo0awY3Hzi5",
        "colab_type": "code",
        "colab": {
          "base_uri": "https://localhost:8080/",
          "height": 354
        },
        "outputId": "b3b82edb-10c0-48db-871a-7c24407e39e6"
      },
      "source": [
        "dataset.loc[1000:1005]"
      ],
      "execution_count": 12,
      "outputs": [
        {
          "output_type": "execute_result",
          "data": {
            "text/html": [
              "<div>\n",
              "<style scoped>\n",
              "    .dataframe tbody tr th:only-of-type {\n",
              "        vertical-align: middle;\n",
              "    }\n",
              "\n",
              "    .dataframe tbody tr th {\n",
              "        vertical-align: top;\n",
              "    }\n",
              "\n",
              "    .dataframe thead th {\n",
              "        text-align: right;\n",
              "    }\n",
              "</style>\n",
              "<table border=\"1\" class=\"dataframe\">\n",
              "  <thead>\n",
              "    <tr style=\"text-align: right;\">\n",
              "      <th></th>\n",
              "      <th>Date</th>\n",
              "      <th>Start (ET)</th>\n",
              "      <th>Visitor Team</th>\n",
              "      <th>VisitorPts</th>\n",
              "      <th>Home Team</th>\n",
              "      <th>HomePts</th>\n",
              "      <th>OT?</th>\n",
              "      <th>Score type</th>\n",
              "      <th>Notes</th>\n",
              "      <th>HomeWin</th>\n",
              "      <th>HomeLastWin</th>\n",
              "      <th>VisitorLastWin</th>\n",
              "    </tr>\n",
              "  </thead>\n",
              "  <tbody>\n",
              "    <tr>\n",
              "      <th>1000</th>\n",
              "      <td>2016-03-15</td>\n",
              "      <td>8:30p</td>\n",
              "      <td>Los Angeles Clippers</td>\n",
              "      <td>87</td>\n",
              "      <td>San Antonio Spurs</td>\n",
              "      <td>108</td>\n",
              "      <td>Box Score</td>\n",
              "      <td>NaN</td>\n",
              "      <td>NaN</td>\n",
              "      <td>True</td>\n",
              "      <td>1</td>\n",
              "      <td>0</td>\n",
              "    </tr>\n",
              "    <tr>\n",
              "      <th>1001</th>\n",
              "      <td>2016-03-15</td>\n",
              "      <td>10:30p</td>\n",
              "      <td>Sacramento Kings</td>\n",
              "      <td>106</td>\n",
              "      <td>Los Angeles Lakers</td>\n",
              "      <td>98</td>\n",
              "      <td>Box Score</td>\n",
              "      <td>NaN</td>\n",
              "      <td>NaN</td>\n",
              "      <td>False</td>\n",
              "      <td>0</td>\n",
              "      <td>0</td>\n",
              "    </tr>\n",
              "    <tr>\n",
              "      <th>1002</th>\n",
              "      <td>2016-03-16</td>\n",
              "      <td>7:00p</td>\n",
              "      <td>Oklahoma City Thunder</td>\n",
              "      <td>130</td>\n",
              "      <td>Boston Celtics</td>\n",
              "      <td>109</td>\n",
              "      <td>Box Score</td>\n",
              "      <td>NaN</td>\n",
              "      <td>NaN</td>\n",
              "      <td>False</td>\n",
              "      <td>0</td>\n",
              "      <td>1</td>\n",
              "    </tr>\n",
              "    <tr>\n",
              "      <th>1003</th>\n",
              "      <td>2016-03-16</td>\n",
              "      <td>7:00p</td>\n",
              "      <td>Orlando Magic</td>\n",
              "      <td>99</td>\n",
              "      <td>Charlotte Hornets</td>\n",
              "      <td>107</td>\n",
              "      <td>Box Score</td>\n",
              "      <td>NaN</td>\n",
              "      <td>NaN</td>\n",
              "      <td>True</td>\n",
              "      <td>0</td>\n",
              "      <td>1</td>\n",
              "    </tr>\n",
              "    <tr>\n",
              "      <th>1004</th>\n",
              "      <td>2016-03-16</td>\n",
              "      <td>7:00p</td>\n",
              "      <td>Dallas Mavericks</td>\n",
              "      <td>98</td>\n",
              "      <td>Cleveland Cavaliers</td>\n",
              "      <td>99</td>\n",
              "      <td>Box Score</td>\n",
              "      <td>NaN</td>\n",
              "      <td>NaN</td>\n",
              "      <td>True</td>\n",
              "      <td>0</td>\n",
              "      <td>1</td>\n",
              "    </tr>\n",
              "    <tr>\n",
              "      <th>1005</th>\n",
              "      <td>2016-03-16</td>\n",
              "      <td>7:00p</td>\n",
              "      <td>Chicago Bulls</td>\n",
              "      <td>96</td>\n",
              "      <td>Washington Wizards</td>\n",
              "      <td>117</td>\n",
              "      <td>Box Score</td>\n",
              "      <td>NaN</td>\n",
              "      <td>NaN</td>\n",
              "      <td>True</td>\n",
              "      <td>1</td>\n",
              "      <td>1</td>\n",
              "    </tr>\n",
              "  </tbody>\n",
              "</table>\n",
              "</div>"
            ],
            "text/plain": [
              "           Date Start (ET)  ... HomeLastWin  VisitorLastWin\n",
              "1000 2016-03-15      8:30p  ...           1               0\n",
              "1001 2016-03-15     10:30p  ...           0               0\n",
              "1002 2016-03-16      7:00p  ...           0               1\n",
              "1003 2016-03-16      7:00p  ...           0               1\n",
              "1004 2016-03-16      7:00p  ...           0               1\n",
              "1005 2016-03-16      7:00p  ...           1               1\n",
              "\n",
              "[6 rows x 12 columns]"
            ]
          },
          "metadata": {
            "tags": []
          },
          "execution_count": 12
        }
      ]
    },
    {
      "cell_type": "code",
      "metadata": {
        "id": "z7pMz9SvN7Mc",
        "colab_type": "code",
        "colab": {
          "base_uri": "https://localhost:8080/",
          "height": 34
        },
        "outputId": "b6292b24-0f14-4159-943c-744517e88e07"
      },
      "source": [
        "from sklearn.tree import DecisionTreeClassifier\n",
        "# 修改这里的随机值可以得到不同的预测结果\n",
        "clf = DecisionTreeClassifier(random_state=14)\n",
        "X_previouswins = dataset[[\"HomeLastWin\", \"VisitorLastWin\"]].values\n",
        "\n",
        "from sklearn.model_selection import cross_val_score\n",
        "import numpy as np\n",
        "scores = cross_val_score(clf, X_previouswins, y_true,\n",
        "                          scoring='accuracy')\n",
        "print(\"Accuracy: {0:.1f}%\".format(np.mean(scores) * 100))"
      ],
      "execution_count": 13,
      "outputs": [
        {
          "output_type": "stream",
          "text": [
            "Accuracy: 59.4%\n"
          ],
          "name": "stdout"
        }
      ]
    },
    {
      "cell_type": "code",
      "metadata": {
        "id": "P4VuTvqQTdKI",
        "colab_type": "code",
        "colab": {
          "base_uri": "https://localhost:8080/",
          "height": 343
        },
        "outputId": "8884061f-6aa4-4ac2-beb3-5450e97a94a4"
      },
      "source": [
        "standings_filename = \"https://raw.githubusercontent.com/neowalter/DA-tour/master/charpter3/standings.csv\"\n",
        "standings = pd.read_csv(standings_filename)\n",
        "standings.head()"
      ],
      "execution_count": 15,
      "outputs": [
        {
          "output_type": "execute_result",
          "data": {
            "text/html": [
              "<div>\n",
              "<style scoped>\n",
              "    .dataframe tbody tr th:only-of-type {\n",
              "        vertical-align: middle;\n",
              "    }\n",
              "\n",
              "    .dataframe tbody tr th {\n",
              "        vertical-align: top;\n",
              "    }\n",
              "\n",
              "    .dataframe thead th {\n",
              "        text-align: right;\n",
              "    }\n",
              "</style>\n",
              "<table border=\"1\" class=\"dataframe\">\n",
              "  <thead>\n",
              "    <tr style=\"text-align: right;\">\n",
              "      <th></th>\n",
              "      <th>Rk</th>\n",
              "      <th>Team</th>\n",
              "      <th>Overall</th>\n",
              "      <th>Home</th>\n",
              "      <th>Road</th>\n",
              "      <th>E</th>\n",
              "      <th>W</th>\n",
              "      <th>A</th>\n",
              "      <th>C</th>\n",
              "      <th>SE</th>\n",
              "      <th>NW</th>\n",
              "      <th>P</th>\n",
              "      <th>SW</th>\n",
              "      <th>Pre</th>\n",
              "      <th>Post</th>\n",
              "      <th>≤3</th>\n",
              "      <th>≥10</th>\n",
              "      <th>Oct</th>\n",
              "      <th>Nov</th>\n",
              "      <th>Dec</th>\n",
              "      <th>Jan</th>\n",
              "      <th>Feb</th>\n",
              "      <th>Mar</th>\n",
              "      <th>Apr</th>\n",
              "    </tr>\n",
              "  </thead>\n",
              "  <tbody>\n",
              "    <tr>\n",
              "      <th>0</th>\n",
              "      <td>1</td>\n",
              "      <td>Golden State Warriors</td>\n",
              "      <td>67-15</td>\n",
              "      <td>39-2</td>\n",
              "      <td>28-13</td>\n",
              "      <td>25-5</td>\n",
              "      <td>42-10</td>\n",
              "      <td>9-1</td>\n",
              "      <td>7-3</td>\n",
              "      <td>9-1</td>\n",
              "      <td>15-3</td>\n",
              "      <td>13-3</td>\n",
              "      <td>14-4</td>\n",
              "      <td>42-9</td>\n",
              "      <td>25-6</td>\n",
              "      <td>5-3</td>\n",
              "      <td>45-9</td>\n",
              "      <td>1-0</td>\n",
              "      <td>13-2</td>\n",
              "      <td>11-3</td>\n",
              "      <td>12-3</td>\n",
              "      <td>8-3</td>\n",
              "      <td>16-2</td>\n",
              "      <td>6-2</td>\n",
              "    </tr>\n",
              "    <tr>\n",
              "      <th>1</th>\n",
              "      <td>2</td>\n",
              "      <td>Atlanta Hawks</td>\n",
              "      <td>60-22</td>\n",
              "      <td>35-6</td>\n",
              "      <td>25-16</td>\n",
              "      <td>38-14</td>\n",
              "      <td>22-8</td>\n",
              "      <td>12-6</td>\n",
              "      <td>14-4</td>\n",
              "      <td>12-4</td>\n",
              "      <td>8-2</td>\n",
              "      <td>8-2</td>\n",
              "      <td>6-4</td>\n",
              "      <td>43-11</td>\n",
              "      <td>17-11</td>\n",
              "      <td>6-4</td>\n",
              "      <td>30-10</td>\n",
              "      <td>0-1</td>\n",
              "      <td>9-5</td>\n",
              "      <td>14-2</td>\n",
              "      <td>17-0</td>\n",
              "      <td>7-4</td>\n",
              "      <td>9-7</td>\n",
              "      <td>4-3</td>\n",
              "    </tr>\n",
              "    <tr>\n",
              "      <th>2</th>\n",
              "      <td>3</td>\n",
              "      <td>Houston Rockets</td>\n",
              "      <td>56-26</td>\n",
              "      <td>30-11</td>\n",
              "      <td>26-15</td>\n",
              "      <td>23-7</td>\n",
              "      <td>33-19</td>\n",
              "      <td>9-1</td>\n",
              "      <td>8-2</td>\n",
              "      <td>6-4</td>\n",
              "      <td>15-3</td>\n",
              "      <td>10-8</td>\n",
              "      <td>8-8</td>\n",
              "      <td>36-17</td>\n",
              "      <td>20-9</td>\n",
              "      <td>8-4</td>\n",
              "      <td>31-14</td>\n",
              "      <td>2-0</td>\n",
              "      <td>11-4</td>\n",
              "      <td>9-5</td>\n",
              "      <td>11-6</td>\n",
              "      <td>7-3</td>\n",
              "      <td>10-6</td>\n",
              "      <td>6-2</td>\n",
              "    </tr>\n",
              "    <tr>\n",
              "      <th>3</th>\n",
              "      <td>4</td>\n",
              "      <td>Los Angeles Clippers</td>\n",
              "      <td>56-26</td>\n",
              "      <td>30-11</td>\n",
              "      <td>26-15</td>\n",
              "      <td>19-11</td>\n",
              "      <td>37-15</td>\n",
              "      <td>7-3</td>\n",
              "      <td>6-4</td>\n",
              "      <td>6-4</td>\n",
              "      <td>15-3</td>\n",
              "      <td>12-4</td>\n",
              "      <td>10-8</td>\n",
              "      <td>35-19</td>\n",
              "      <td>21-7</td>\n",
              "      <td>3-5</td>\n",
              "      <td>33-9</td>\n",
              "      <td>2-0</td>\n",
              "      <td>9-5</td>\n",
              "      <td>11-6</td>\n",
              "      <td>11-4</td>\n",
              "      <td>5-6</td>\n",
              "      <td>11-5</td>\n",
              "      <td>7-0</td>\n",
              "    </tr>\n",
              "    <tr>\n",
              "      <th>4</th>\n",
              "      <td>5</td>\n",
              "      <td>Memphis Grizzlies</td>\n",
              "      <td>55-27</td>\n",
              "      <td>31-10</td>\n",
              "      <td>24-17</td>\n",
              "      <td>20-10</td>\n",
              "      <td>35-17</td>\n",
              "      <td>8-2</td>\n",
              "      <td>5-5</td>\n",
              "      <td>7-3</td>\n",
              "      <td>13-5</td>\n",
              "      <td>13-5</td>\n",
              "      <td>9-7</td>\n",
              "      <td>39-14</td>\n",
              "      <td>16-13</td>\n",
              "      <td>9-3</td>\n",
              "      <td>26-13</td>\n",
              "      <td>2-0</td>\n",
              "      <td>13-2</td>\n",
              "      <td>8-6</td>\n",
              "      <td>12-4</td>\n",
              "      <td>7-4</td>\n",
              "      <td>9-8</td>\n",
              "      <td>4-3</td>\n",
              "    </tr>\n",
              "  </tbody>\n",
              "</table>\n",
              "</div>"
            ],
            "text/plain": [
              "   Rk                   Team Overall   Home   Road  ...   Dec   Jan  Feb   Mar  Apr\n",
              "0   1  Golden State Warriors   67-15   39-2  28-13  ...  11-3  12-3  8-3  16-2  6-2\n",
              "1   2          Atlanta Hawks   60-22   35-6  25-16  ...  14-2  17-0  7-4   9-7  4-3\n",
              "2   3        Houston Rockets   56-26  30-11  26-15  ...   9-5  11-6  7-3  10-6  6-2\n",
              "3   4   Los Angeles Clippers   56-26  30-11  26-15  ...  11-6  11-4  5-6  11-5  7-0\n",
              "4   5      Memphis Grizzlies   55-27  31-10  24-17  ...   8-6  12-4  7-4   9-8  4-3\n",
              "\n",
              "[5 rows x 24 columns]"
            ]
          },
          "metadata": {
            "tags": []
          },
          "execution_count": 15
        }
      ]
    },
    {
      "cell_type": "code",
      "metadata": {
        "id": "PIULQa1OTuAU",
        "colab_type": "code",
        "colab": {
          "base_uri": "https://localhost:8080/",
          "height": 34
        },
        "outputId": "65dc9dcb-89f5-4744-aaa8-1daefb150a7e"
      },
      "source": [
        "dataset[\"HomeTeamRanksHigher\"] = 0\n",
        "for index, row in dataset.iterrows():\n",
        "    home_team = row[\"Home Team\"]\n",
        "    visitor_team = row[\"Visitor Team\"]\n",
        "    home_rank = standings[standings[\"Team\"] == home_team][\"Rk\"].values[0]\n",
        "    visitor_rank = standings[standings[\"Team\"] == visitor_team][\"Rk\"].values[0]\n",
        "    dataset.at[index, \"HomeTeamRanksHigher\"] = int(home_rank < visitor_rank)\n",
        "    \n",
        "X_homehigher = dataset[[\"HomeTeamRanksHigher\", \"HomeLastWin\", \"VisitorLastWin\",]].values\n",
        "clf = DecisionTreeClassifier(random_state=14, criterion=\"entropy\")\n",
        "scores = cross_val_score(clf, X_homehigher, y_true, scoring='accuracy')\n",
        "print(\"Accuracy: {0:.1f}%\".format(np.mean(scores) * 100))    "
      ],
      "execution_count": 16,
      "outputs": [
        {
          "output_type": "stream",
          "text": [
            "Accuracy: 61.8%\n"
          ],
          "name": "stdout"
        }
      ]
    },
    {
      "cell_type": "code",
      "metadata": {
        "id": "IkK44WT8Wsl6",
        "colab_type": "code",
        "colab": {
          "base_uri": "https://localhost:8080/",
          "height": 34
        },
        "outputId": "48852ed7-a13d-4421-8f54-e0aeab51611f"
      },
      "source": [
        "last_match_winner = defaultdict(int)\n",
        "dataset[\"HomeTeamWonLast\"] = 0\n",
        "\n",
        "for index, row in dataset.iterrows():\n",
        "    home_team = row[\"Home Team\"]\n",
        "    visitor_team = row[\"Visitor Team\"]\n",
        "    teams = tuple(sorted([home_team, visitor_team]))  # Sort for a consistent ordering\n",
        "    # Set in the row, who won the last encounter\n",
        "    home_team_won_last = 1 if last_match_winner[teams] == row[\"Home Team\"] else 0\n",
        "    dataset.at[index, \"HomeTeamWonLast\"] = home_team_won_last\n",
        "\n",
        "    # Who won this one?\n",
        "    winner = row[\"Home Team\"] if row[\"HomeWin\"] else row[\"Visitor Team\"]\n",
        "    last_match_winner[teams] = winner\n",
        "\n",
        "X_lastwinner = dataset[[ \"HomeTeamWonLast\", \"HomeTeamRanksHigher\", \"HomeLastWin\", \"VisitorLastWin\",]].values\n",
        "clf = DecisionTreeClassifier(random_state=14, criterion=\"entropy\")\n",
        "scores = cross_val_score(clf, X_lastwinner, y_true, scoring='accuracy')\n",
        "print(\"Accuracy: {0:.1f}%\".format(np.mean(scores) * 100))    "
      ],
      "execution_count": 17,
      "outputs": [
        {
          "output_type": "stream",
          "text": [
            "Accuracy: 62.4%\n"
          ],
          "name": "stdout"
        }
      ]
    },
    {
      "cell_type": "code",
      "metadata": {
        "id": "13h_e7osXPTw",
        "colab_type": "code",
        "colab": {
          "base_uri": "https://localhost:8080/",
          "height": 34
        },
        "outputId": "9f672d95-8479-4388-e6a0-4b71489ade7d"
      },
      "source": [
        "from sklearn.preprocessing import LabelEncoder\n",
        "encoding = LabelEncoder()\n",
        "encoding.fit(dataset[\"Home Team\"].values)\n",
        "home_teams = encoding.transform(dataset[\"Home Team\"].values)\n",
        "visitor_teams = encoding.transform(dataset[\"Visitor Team\"].values)\n",
        "X_teams = np.vstack([home_teams, visitor_teams]).T\n",
        "\n",
        "from sklearn.preprocessing import OneHotEncoder\n",
        "onehot = OneHotEncoder()\n",
        "X_teams = onehot.fit_transform(X_teams).todense()\n",
        "clf = DecisionTreeClassifier(random_state=14)\n",
        "scores = cross_val_score(clf, X_teams, y_true, scoring='accuracy')\n",
        "print(\"Accuracy: {0:.1f}%\".format(np.mean(scores) * 100))"
      ],
      "execution_count": 18,
      "outputs": [
        {
          "output_type": "stream",
          "text": [
            "Accuracy: 63.7%\n"
          ],
          "name": "stdout"
        }
      ]
    },
    {
      "cell_type": "code",
      "metadata": {
        "id": "SBTrhU-3ehLa",
        "colab_type": "code",
        "colab": {
          "base_uri": "https://localhost:8080/",
          "height": 34
        },
        "outputId": "1737f182-b76e-4b0f-e521-826d7e5c0e2d"
      },
      "source": [
        "from sklearn.ensemble import RandomForestClassifier\n",
        "clf = RandomForestClassifier(random_state=14)\n",
        "scores = cross_val_score(clf, X_teams, y_true, scoring='accuracy')\n",
        "print(\"Accuracy: {0:.1f}%\".format(np.mean(scores) * 100))"
      ],
      "execution_count": 19,
      "outputs": [
        {
          "output_type": "stream",
          "text": [
            "Accuracy: 64.7%\n"
          ],
          "name": "stdout"
        }
      ]
    },
    {
      "cell_type": "code",
      "metadata": {
        "id": "_G401Q4afzOX",
        "colab_type": "code",
        "colab": {
          "base_uri": "https://localhost:8080/",
          "height": 34
        },
        "outputId": "1b763cf0-719b-4994-da4d-86b5a6272359"
      },
      "source": [
        "X_all = np.hstack([X_lastwinner, X_teams])\n",
        "clf = RandomForestClassifier(random_state=14)\n",
        "scores = cross_val_score(clf, X_all, y_true, scoring='accuracy')\n",
        "print(\"Accuracy: {0:.1f}%\".format(np.mean(scores) * 100))"
      ],
      "execution_count": 20,
      "outputs": [
        {
          "output_type": "stream",
          "text": [
            "Accuracy: 64.4%\n"
          ],
          "name": "stdout"
        }
      ]
    },
    {
      "cell_type": "code",
      "metadata": {
        "id": "AkiXnYyrfrDB",
        "colab_type": "code",
        "colab": {
          "base_uri": "https://localhost:8080/",
          "height": 34
        },
        "outputId": "a3808d10-8d05-41d1-84dc-2f0873daae65"
      },
      "source": [
        "from sklearn.model_selection import GridSearchCV\n",
        "parameter_space = {\n",
        "    \"max_features\": [2, 10, 'auto'],\n",
        "    \"n_estimators\": [100, 200],\n",
        "    \"criterion\": [\"gini\", \"entropy\"],\n",
        "    \"min_samples_leaf\": [2, 4, 6],\n",
        "}\n",
        "clf = RandomForestClassifier(random_state=14)\n",
        "grid = GridSearchCV(clf, parameter_space)\n",
        "grid.fit(X_all, y_true)\n",
        "print(\"Accuracy: {0:.1f}%\".format(grid.best_score_ * 100))"
      ],
      "execution_count": 21,
      "outputs": [
        {
          "output_type": "stream",
          "text": [
            "Accuracy: 67.7%\n"
          ],
          "name": "stdout"
        }
      ]
    },
    {
      "cell_type": "code",
      "metadata": {
        "id": "jnfJ8rjchUz6",
        "colab_type": "code",
        "colab": {
          "base_uri": "https://localhost:8080/",
          "height": 153
        },
        "outputId": "b52f6d48-d4b1-4baa-e31a-980e9015d3e8"
      },
      "source": [
        "print(grid.best_estimator_)"
      ],
      "execution_count": 22,
      "outputs": [
        {
          "output_type": "stream",
          "text": [
            "RandomForestClassifier(bootstrap=True, ccp_alpha=0.0, class_weight=None,\n",
            "                       criterion='entropy', max_depth=None, max_features='auto',\n",
            "                       max_leaf_nodes=None, max_samples=None,\n",
            "                       min_impurity_decrease=0.0, min_impurity_split=None,\n",
            "                       min_samples_leaf=4, min_samples_split=2,\n",
            "                       min_weight_fraction_leaf=0.0, n_estimators=200,\n",
            "                       n_jobs=None, oob_score=False, random_state=14, verbose=0,\n",
            "                       warm_start=False)\n"
          ],
          "name": "stdout"
        }
      ]
    },
    {
      "cell_type": "code",
      "metadata": {
        "id": "j604o0gPh-bA",
        "colab_type": "code",
        "colab": {}
      },
      "source": [
        ""
      ],
      "execution_count": null,
      "outputs": []
    }
  ]
}