{
  "nbformat": 4,
  "nbformat_minor": 0,
  "metadata": {
    "colab": {
      "name": "charpter2_scikit_learn.ipynb",
      "provenance": []
    },
    "kernelspec": {
      "name": "python3",
      "display_name": "Python 3"
    }
  },
  "cells": [
    {
      "cell_type": "code",
      "metadata": {
        "id": "2mb775m-ONvq",
        "colab_type": "code",
        "colab": {}
      },
      "source": [
        "import pandas as pd \n",
        "import numpy as np\n",
        "import os\n",
        "import csv"
      ],
      "execution_count": 3,
      "outputs": []
    },
    {
      "cell_type": "code",
      "metadata": {
        "id": "yc26eSgfAStY",
        "colab_type": "code",
        "colab": {
          "base_uri": "https://localhost:8080/",
          "height": 255
        },
        "outputId": "9165263d-050d-4aa0-f195-b264afed615b"
      },
      "source": [
        "data_filename = 'https://raw.githubusercontent.com/neowalter/DA-tour/master/charpter2/ionosphere.data'\n",
        "df = pd.read_csv(data_filename)\n",
        "df.describe"
      ],
      "execution_count": 6,
      "outputs": [
        {
          "output_type": "execute_result",
          "data": {
            "text/plain": [
              "<bound method NDFrame.describe of      1  0  0.99539  -0.05889  0.85243  ...  0.42267  -0.54487  0.18641  -0.45300  g\n",
              "0    1  0  1.00000  -0.18829  0.93035  ... -0.16626  -0.06288 -0.13738  -0.02447  b\n",
              "1    1  0  1.00000  -0.03365  1.00000  ...  0.60436  -0.24180  0.56045  -0.38238  g\n",
              "2    1  0  1.00000  -0.45161  1.00000  ...  0.25682   1.00000 -0.32382   1.00000  b\n",
              "3    1  0  1.00000  -0.02401  0.94140  ... -0.05707  -0.59573 -0.04608  -0.65697  g\n",
              "4    1  0  0.02337  -0.00592 -0.09924  ...  0.00000   0.00000 -0.00039   0.12011  b\n",
              "..  .. ..      ...       ...      ...  ...      ...       ...      ...       ... ..\n",
              "345  1  0  0.83508   0.08298  0.73739  ...  0.86660  -0.10714  0.90546  -0.04307  g\n",
              "346  1  0  0.95113   0.00419  0.95183  ...  0.94066  -0.00035  0.91483   0.04712  g\n",
              "347  1  0  0.94701  -0.00034  0.93207  ...  0.92459   0.00442  0.92697  -0.00577  g\n",
              "348  1  0  0.90608  -0.01657  0.98122  ...  0.96022  -0.03757  0.87403  -0.16243  g\n",
              "349  1  0  0.84710   0.13533  0.73638  ...  0.75747  -0.06678  0.85764  -0.06151  g\n",
              "\n",
              "[350 rows x 35 columns]>"
            ]
          },
          "metadata": {
            "tags": []
          },
          "execution_count": 6
        }
      ]
    },
    {
      "cell_type": "code",
      "metadata": {
        "colab_type": "code",
        "id": "MDNVCro-xdVC",
        "colab": {
          "base_uri": "https://localhost:8080/",
          "height": 34
        },
        "outputId": "75ca15fd-8879-4582-b200-1e1b6ea3741a"
      },
      "source": [
        "#change this to the location where your file is located\n",
        "data_filename = \"/content/ionosphere.data\"\n",
        "print(data_filename)"
      ],
      "execution_count": 25,
      "outputs": [
        {
          "output_type": "stream",
          "text": [
            "/content/ionosphere.data\n"
          ],
          "name": "stdout"
        }
      ]
    },
    {
      "cell_type": "code",
      "metadata": {
        "id": "_Bt5pdDBHXuk",
        "colab_type": "code",
        "colab": {}
      },
      "source": [
        "X = np.zeros((351, 34), dtype='float')\n",
        "y = np.zeros((351,), dtype='bool')\n",
        "\n",
        "with open(data_filename, 'r') as input_file:\n",
        "    reader = csv.reader(input_file)\n",
        "    for i, row in enumerate(reader):\n",
        "        # Get the data, converting each item to a float\n",
        "        data = [float(datum) for datum in row[:-1]]\n",
        "        # Set the appropriate row in our dataset\n",
        "        X[i] = data\n",
        "        # 1 if the class is 'g', 0 otherwise\n",
        "        y[i] = row[-1] == 'g'"
      ],
      "execution_count": 26,
      "outputs": []
    },
    {
      "cell_type": "code",
      "metadata": {
        "id": "3qnOrMURnCo9",
        "colab_type": "code",
        "colab": {
          "base_uri": "https://localhost:8080/",
          "height": 68
        },
        "outputId": "3d198a73-2c78-4c89-dd05-e50495d63645"
      },
      "source": [
        "from sklearn.model_selection import train_test_split\n",
        "X_train, X_test, y_train, y_test = train_test_split(X, y, random_state=14)\n",
        "print(\"There are {} samples in the training dataset\".format(X_train.shape[0]))\n",
        "print(\"There are {} samples in the testing dataset\".format(X_test.shape[0]))\n",
        "print(\"Each sample has {} features\".format(X_train.shape[1]))"
      ],
      "execution_count": 27,
      "outputs": [
        {
          "output_type": "stream",
          "text": [
            "There are 263 samples in the training dataset\n",
            "There are 88 samples in the testing dataset\n",
            "Each sample has 34 features\n"
          ],
          "name": "stdout"
        }
      ]
    },
    {
      "cell_type": "code",
      "metadata": {
        "id": "_rWnb8R0olWA",
        "colab_type": "code",
        "colab": {}
      },
      "source": [
        "from sklearn.neighbors import KNeighborsClassifier\n",
        "estimator = KNeighborsClassifier()"
      ],
      "execution_count": 28,
      "outputs": []
    },
    {
      "cell_type": "code",
      "metadata": {
        "id": "-3kYrBc_oq0Q",
        "colab_type": "code",
        "colab": {
          "base_uri": "https://localhost:8080/",
          "height": 68
        },
        "outputId": "c033812c-b36f-4c17-c7a6-fca56c23a4f3"
      },
      "source": [
        "estimator.fit(X_train, y_train)"
      ],
      "execution_count": 29,
      "outputs": [
        {
          "output_type": "execute_result",
          "data": {
            "text/plain": [
              "KNeighborsClassifier(algorithm='auto', leaf_size=30, metric='minkowski',\n",
              "                     metric_params=None, n_jobs=None, n_neighbors=5, p=2,\n",
              "                     weights='uniform')"
            ]
          },
          "metadata": {
            "tags": []
          },
          "execution_count": 29
        }
      ]
    },
    {
      "cell_type": "code",
      "metadata": {
        "id": "s8D0SuHXowg2",
        "colab_type": "code",
        "colab": {
          "base_uri": "https://localhost:8080/",
          "height": 34
        },
        "outputId": "048c35da-963c-46a7-eb30-dd305b259300"
      },
      "source": [
        "y_predicted = estimator.predict(X_test)\n",
        "accuracy = np.mean(y_test == y_predicted) * 100\n",
        "print(\"The accuracy is {0:.1f}%\".format(accuracy))"
      ],
      "execution_count": 30,
      "outputs": [
        {
          "output_type": "stream",
          "text": [
            "The accuracy is 86.4%\n"
          ],
          "name": "stdout"
        }
      ]
    },
    {
      "cell_type": "code",
      "metadata": {
        "id": "Y6Q5uHhQo1Dp",
        "colab_type": "code",
        "colab": {}
      },
      "source": [
        "from sklearn.model_selection import cross_val_score"
      ],
      "execution_count": 31,
      "outputs": []
    },
    {
      "cell_type": "code",
      "metadata": {
        "id": "RDnmYdw_o8h9",
        "colab_type": "code",
        "colab": {
          "base_uri": "https://localhost:8080/",
          "height": 34
        },
        "outputId": "bb7ad791-b70e-4387-ebbe-2255138759c9"
      },
      "source": [
        "scores = cross_val_score(estimator, X, y, scoring='accuracy')\n",
        "average_accuracy = np.mean(scores) * 100\n",
        "print(\"The average accuracy is {0:.1f}%\".format(average_accuracy))"
      ],
      "execution_count": 32,
      "outputs": [
        {
          "output_type": "stream",
          "text": [
            "The average accuracy is 82.6%\n"
          ],
          "name": "stdout"
        }
      ]
    },
    {
      "cell_type": "code",
      "metadata": {
        "id": "jRgK8fNNpDwq",
        "colab_type": "code",
        "colab": {}
      },
      "source": [
        "avg_scores = []\n",
        "all_scores = []\n",
        "parameter_values = list(range(1, 91))  "
      ],
      "execution_count": 33,
      "outputs": []
    },
    {
      "cell_type": "code",
      "metadata": {
        "id": "8B5XsIu5FB5a",
        "colab_type": "code",
        "colab": {}
      },
      "source": [
        "for n_neighbors in parameter_values:\n",
        "    estimator = KNeighborsClassifier(n_neighbors=n_neighbors)\n",
        "    scores = cross_val_score(estimator, X, y, scoring='accuracy')\n",
        "    avg_scores.append(np.mean(scores))\n",
        "    all_scores.append(scores)"
      ],
      "execution_count": 35,
      "outputs": []
    },
    {
      "cell_type": "code",
      "metadata": {
        "id": "LCY_VjA6pG6P",
        "colab_type": "code",
        "colab": {
          "base_uri": "https://localhost:8080/",
          "height": 609
        },
        "outputId": "226df838-e0f9-43ac-aae7-3e45bae11fc5"
      },
      "source": [
        "from matplotlib import pyplot as plt\n",
        "plt.figure(figsize=(22,10))\n",
        "plt.plot(parameter_values, avg_scores, '-o', linewidth=2, markersize=6)"
      ],
      "execution_count": 36,
      "outputs": [
        {
          "output_type": "execute_result",
          "data": {
            "text/plain": [
              "[<matplotlib.lines.Line2D at 0x7f149a883dd8>]"
            ]
          },
          "metadata": {
            "tags": []
          },
          "execution_count": 36
        },
        {
          "output_type": "display_data",
          "data": {
            "image/png": "[encoded data removed]",
            "text/plain": [
              "<Figure size 1584x720 with 1 Axes>"
            ]
          },
          "metadata": {
            "tags": [],
            "needs_background": "light"
          }
        }
      ]
    },
    {
      "cell_type": "code",
      "metadata": {
        "id": "crOiGlIbqM3-",
        "colab_type": "code",
        "colab": {
          "base_uri": "https://localhost:8080/",
          "height": 265
        },
        "outputId": "a37faf97-17cc-48ab-f5bd-512113fa78c7"
      },
      "source": [
        "for parameter, scores in zip(parameter_values, all_scores):\n",
        "    n_scores = len(scores)\n",
        "    plt.plot([parameter] * n_scores, scores, '-o')"
      ],
      "execution_count": 37,
      "outputs": [
        {
          "output_type": "display_data",
          "data": {
            "image/png": "[encoded data removed]",
            "text/plain": [
              "<Figure size 432x288 with 1 Axes>"
            ]
          },
          "metadata": {
            "tags": [],
            "needs_background": "light"
          }
        }
      ]
    },
    {
      "cell_type": "code",
      "metadata": {
        "id": "_2Ag7BWeqTyz",
        "colab_type": "code",
        "colab": {
          "base_uri": "https://localhost:8080/",
          "height": 350
        },
        "outputId": "13ade3d9-fbc1-4701-9fa8-e6607fbf6085"
      },
      "source": [
        "plt.plot(parameter_values, all_scores, 'bx')"
      ],
      "execution_count": 38,
      "outputs": [
        {
          "output_type": "execute_result",
          "data": {
            "text/plain": [
              "[<matplotlib.lines.Line2D at 0x7f149a6be5f8>,\n",
              " <matplotlib.lines.Line2D at 0x7f149a6be710>,\n",
              " <matplotlib.lines.Line2D at 0x7f149a6be6d8>,\n",
              " <matplotlib.lines.Line2D at 0x7f149a6be860>,\n",
              " <matplotlib.lines.Line2D at 0x7f149a6be9b0>]"
            ]
          },
          "metadata": {
            "tags": []
          },
          "execution_count": 38
        },
        {
          "output_type": "display_data",
          "data": {
            "image/png": "[encoded data removed]",
            "text/plain": [
              "<Figure size 432x288 with 1 Axes>"
            ]
          },
          "metadata": {
            "tags": [],
            "needs_background": "light"
          }
        }
      ]
    },
    {
      "cell_type": "code",
      "metadata": {
        "id": "ORxX5c7XqT3B",
        "colab_type": "code",
        "colab": {
          "base_uri": "https://localhost:8080/",
          "height": 265
        },
        "outputId": "5787a8e3-7805-404e-d3ed-4fc3bf25fa16"
      },
      "source": [
        "from collections import defaultdict\n",
        "all_scores = defaultdict(list)\n",
        "parameter_values = list(range(1, 21))  \n",
        "for n_neighbors in parameter_values:\n",
        "    for i in range(100):\n",
        "        estimator = KNeighborsClassifier(n_neighbors=n_neighbors)\n",
        "        scores = cross_val_score(estimator, X, y, scoring='accuracy', cv=10)\n",
        "        all_scores[n_neighbors].append(scores)\n",
        "for parameter in parameter_values:\n",
        "    scores = all_scores[parameter]\n",
        "    n_scores = len(scores)\n",
        "    plt.plot([parameter] * n_scores, scores, '-o')"
      ],
      "execution_count": 39,
      "outputs": [
        {
          "output_type": "display_data",
          "data": {
            "image/png": "[encoded data removed]",
            "text/plain": [
              "<Figure size 432x288 with 1 Axes>"
            ]
          },
          "metadata": {
            "tags": [],
            "needs_background": "light"
          }
        }
      ]
    },
    {
      "cell_type": "code",
      "metadata": {
        "id": "EB4O72INqh45",
        "colab_type": "code",
        "colab": {}
      },
      "source": [
        "plt.plot(parameter_values, avg_scores, '-o')"
      ],
      "execution_count": null,
      "outputs": []
    },
    {
      "cell_type": "code",
      "metadata": {
        "id": "H52Sgm3TqsEb",
        "colab_type": "code",
        "colab": {}
      },
      "source": [
        "X_broken = np.array(X)"
      ],
      "execution_count": 41,
      "outputs": []
    },
    {
      "cell_type": "code",
      "metadata": {
        "id": "R_TOEfpSqu2b",
        "colab_type": "code",
        "colab": {}
      },
      "source": [
        "X_broken[:,::2] /= 10"
      ],
      "execution_count": 42,
      "outputs": []
    },
    {
      "cell_type": "code",
      "metadata": {
        "id": "bdBx0ytGqwm8",
        "colab_type": "code",
        "colab": {
          "base_uri": "https://localhost:8080/",
          "height": 51
        },
        "outputId": "60a1df97-67d1-4958-dbbb-82394c644906"
      },
      "source": [
        "estimator = KNeighborsClassifier()\n",
        "original_scores = cross_val_score(estimator, X, y,\n",
        "  scoring='accuracy')\n",
        "print(\"The original average accuracy for is {0:.1f}%\".format(np.mean(original_scores) * 100))\n",
        "broken_scores = cross_val_score(estimator, X_broken, y,\n",
        "  scoring='accuracy')\n",
        "print(\"The 'broken' average accuracy for is {0:.1f}%\".format(np.mean(broken_scores) * 100))\n"
      ],
      "execution_count": 43,
      "outputs": [
        {
          "output_type": "stream",
          "text": [
            "The original average accuracy for is 82.6%\n",
            "The 'broken' average accuracy for is 73.8%\n"
          ],
          "name": "stdout"
        }
      ]
    },
    {
      "cell_type": "code",
      "metadata": {
        "id": "WEjNQlGRrEM3",
        "colab_type": "code",
        "colab": {}
      },
      "source": [
        "from sklearn.preprocessing import MinMaxScaler"
      ],
      "execution_count": 44,
      "outputs": []
    },
    {
      "cell_type": "code",
      "metadata": {
        "id": "XS9ettf2rF7b",
        "colab_type": "code",
        "colab": {}
      },
      "source": [
        "X_transformed = MinMaxScaler().fit_transform(X)"
      ],
      "execution_count": 45,
      "outputs": []
    },
    {
      "cell_type": "code",
      "metadata": {
        "id": "X5GVDSCLrHr7",
        "colab_type": "code",
        "colab": {
          "base_uri": "https://localhost:8080/",
          "height": 34
        },
        "outputId": "ca5d48ee-8571-4279-a6a5-11e503edec09"
      },
      "source": [
        "X_transformed = MinMaxScaler().fit_transform(X_broken)\n",
        "estimator = KNeighborsClassifier()\n",
        "transformed_scores = cross_val_score(estimator, X_transformed, y, scoring='accuracy')\n",
        "print(\"The average accuracy for is {0:.1f}%\".format(np.mean(transformed_scores) * 100))\n"
      ],
      "execution_count": 46,
      "outputs": [
        {
          "output_type": "stream",
          "text": [
            "The average accuracy for is 82.9%\n"
          ],
          "name": "stdout"
        }
      ]
    },
    {
      "cell_type": "code",
      "metadata": {
        "id": "jdzna7yQKRLY",
        "colab_type": "code",
        "colab": {}
      },
      "source": [
        "from sklearn.preprocessing import StandardScaler"
      ],
      "execution_count": null,
      "outputs": []
    },
    {
      "cell_type": "code",
      "metadata": {
        "colab_type": "code",
        "id": "KELNzQtZxfbz",
        "colab": {
          "base_uri": "https://localhost:8080/",
          "height": 34
        },
        "outputId": "8c9d19f8-0aab-4a04-b3bd-5f95a9895a75"
      },
      "source": [
        "X_transformed1 = StandardScaler().fit_transform(X_broken)\n",
        "estimator = KNeighborsClassifier()\n",
        "transformed_scores = cross_val_score(estimator, X_transformed1, y, scoring='accuracy')\n",
        "print(\"The average accuracy for is {0:.1f}%\".format(np.mean(transformed_scores) * 100))\n"
      ],
      "execution_count": null,
      "outputs": [
        {
          "output_type": "stream",
          "text": [
            "The average accuracy for is 82.9%\n"
          ],
          "name": "stdout"
        }
      ]
    },
    {
      "cell_type": "code",
      "metadata": {
        "id": "Lh0N-bbFLQCl",
        "colab_type": "code",
        "colab": {}
      },
      "source": [
        "from sklearn.preprocessing import Binarizer"
      ],
      "execution_count": 53,
      "outputs": []
    },
    {
      "cell_type": "code",
      "metadata": {
        "id": "jCnq-w7pLVMI",
        "colab_type": "code",
        "colab": {
          "base_uri": "https://localhost:8080/",
          "height": 34
        },
        "outputId": "f24f8442-7127-44c4-b0fe-f7fddf55eb88"
      },
      "source": [
        "X_transformed2 = Binarizer().fit_transform(X)\n",
        "#X_transformed2 = Binarizer().fit_transform(X_broken)\n",
        "estimator = KNeighborsClassifier()\n",
        "transformed_scores = cross_val_score(estimator, X_transformed2, y, scoring='accuracy')\n",
        "print(\"The average accuracy for is {0:.1f}%\".format(np.mean(transformed_scores) * 100))\n"
      ],
      "execution_count": 54,
      "outputs": [
        {
          "output_type": "stream",
          "text": [
            "The average accuracy for is 84.6%\n"
          ],
          "name": "stdout"
        }
      ]
    },
    {
      "cell_type": "code",
      "metadata": {
        "id": "DSXQ6CfCMC4R",
        "colab_type": "code",
        "colab": {}
      },
      "source": [
        "from sklearn.preprocessing import Normalizer"
      ],
      "execution_count": null,
      "outputs": []
    },
    {
      "cell_type": "code",
      "metadata": {
        "id": "suDASKMSMNZo",
        "colab_type": "code",
        "colab": {
          "base_uri": "https://localhost:8080/",
          "height": 34
        },
        "outputId": "cc4e1d76-eeca-4b3e-da56-e076338a4188"
      },
      "source": [
        "X_transformed3 = Normalizer().fit_transform(X_broken)\n",
        "estimator = KNeighborsClassifier()\n",
        "transformed_scores = cross_val_score(estimator, X_transformed3, y, scoring='accuracy')\n",
        "print(\"The average accuracy for is {0:.1f}%\".format(np.mean(transformed_scores) * 100))\n"
      ],
      "execution_count": null,
      "outputs": [
        {
          "output_type": "stream",
          "text": [
            "The average accuracy for is 81.8%\n"
          ],
          "name": "stdout"
        }
      ]
    },
    {
      "cell_type": "code",
      "metadata": {
        "id": "pCEZcBLNrKmw",
        "colab_type": "code",
        "colab": {}
      },
      "source": [
        "from sklearn.pipeline import Pipeline"
      ],
      "execution_count": 49,
      "outputs": []
    },
    {
      "cell_type": "code",
      "metadata": {
        "id": "lwCgx-8mrLP6",
        "colab_type": "code",
        "colab": {}
      },
      "source": [
        "scaling_pipeline = Pipeline([('scale', MinMaxScaler()),('predict', KNeighborsClassifier())])\n"
      ],
      "execution_count": 50,
      "outputs": []
    },
    {
      "cell_type": "code",
      "metadata": {
        "id": "Nl-mzEfLrQUZ",
        "colab_type": "code",
        "colab": {
          "base_uri": "https://localhost:8080/",
          "height": 34
        },
        "outputId": "685f5563-5f47-46b5-ea9c-b8e8a237f2ab"
      },
      "source": [
        "scores = cross_val_score(scaling_pipeline, X_broken, y, scoring='accuracy')\n",
        "print(\"The pipeline scored an average accuracy for is {0:.1f}%\".format(np.mean(transformed_scores) * 100))\n"
      ],
      "execution_count": null,
      "outputs": [
        {
          "output_type": "stream",
          "text": [
            "The pipeline scored an average accuracy for is 82.9%\n"
          ],
          "name": "stdout"
        }
      ]
    },
    {
      "cell_type": "code",
      "metadata": {
        "id": "iFVacqSHSSFs",
        "colab_type": "code",
        "colab": {
          "base_uri": "https://localhost:8080/",
          "height": 34
        },
        "outputId": "a4354092-4797-4aa5-9851-23a257575c40"
      },
      "source": [
        "scores = cross_val_score(scaling_pipeline, X, y, scoring='accuracy')\n",
        "print(\"The pipeline scored an average accuracy for is {0:.1f}%\".format(np.mean(transformed_scores) * 100))"
      ],
      "execution_count": 51,
      "outputs": [
        {
          "output_type": "stream",
          "text": [
            "The pipeline scored an average accuracy for is 82.9%\n"
          ],
          "name": "stdout"
        }
      ]
    }
  ]
}