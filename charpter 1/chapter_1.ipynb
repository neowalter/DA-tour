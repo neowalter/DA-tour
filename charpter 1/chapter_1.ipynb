{
  "nbformat": 4,
  "nbformat_minor": 0,
  "metadata": {
    "colab": {
      "name": "chapter_1.ipynb",
      "provenance": []
    },
    "kernelspec": {
      "name": "python3",
      "display_name": "Python 3"
    }
  },
  "cells": [
    {
      "cell_type": "code",
      "metadata": {
        "id": "GKpj0_887exp",
        "colab_type": "code",
        "colab": {
          "base_uri": "https://localhost:8080/",
          "height": 1000
        },
        "outputId": "0b26f2ba-e400-4c2d-c101-d9784dde87e0"
      },
      "source": [
        "import numpy as np\n",
        "dataset_filename = \"https://raw.githubusercontent.com/neowalter/DA-tour/master/data.txt\"\n",
        "X = np.loadtxt(dataset_filename)\n",
        "print(X)"
      ],
      "execution_count": 1,
      "outputs": [
        {
          "output_type": "stream",
          "text": [
            "[[0. 1. 0. 0. 0.]\n",
            " [1. 1. 0. 0. 0.]\n",
            " [0. 0. 1. 0. 1.]\n",
            " [1. 1. 0. 0. 0.]\n",
            " [0. 0. 1. 1. 1.]\n",
            " [0. 1. 0. 0. 0.]\n",
            " [0. 0. 1. 1. 1.]\n",
            " [0. 0. 1. 1. 0.]\n",
            " [0. 1. 0. 1. 0.]\n",
            " [0. 1. 0. 0. 1.]\n",
            " [0. 0. 0. 1. 0.]\n",
            " [1. 0. 1. 0. 0.]\n",
            " [1. 0. 0. 0. 1.]\n",
            " [0. 1. 1. 0. 0.]\n",
            " [0. 0. 1. 0. 1.]\n",
            " [0. 1. 0. 1. 0.]\n",
            " [1. 1. 0. 1. 1.]\n",
            " [0. 0. 0. 1. 1.]\n",
            " [0. 1. 0. 0. 1.]\n",
            " [1. 1. 0. 1. 0.]\n",
            " [0. 1. 1. 0. 0.]\n",
            " [0. 1. 0. 0. 1.]\n",
            " [0. 0. 1. 0. 0.]\n",
            " [1. 0. 0. 0. 1.]\n",
            " [0. 1. 0. 1. 0.]\n",
            " [1. 0. 0. 1. 1.]\n",
            " [0. 1. 1. 0. 0.]\n",
            " [0. 1. 0. 0. 1.]\n",
            " [0. 0. 0. 0. 1.]\n",
            " [1. 0. 0. 0. 1.]\n",
            " [0. 1. 0. 1. 1.]\n",
            " [1. 0. 0. 0. 0.]\n",
            " [0. 1. 0. 0. 0.]\n",
            " [1. 0. 0. 0. 0.]\n",
            " [0. 0. 1. 1. 1.]\n",
            " [0. 0. 1. 1. 1.]\n",
            " [0. 0. 1. 1. 1.]\n",
            " [1. 0. 0. 1. 0.]\n",
            " [0. 1. 0. 0. 1.]\n",
            " [1. 1. 0. 0. 0.]\n",
            " [0. 0. 0. 0. 1.]\n",
            " [0. 1. 0. 1. 1.]\n",
            " [0. 1. 0. 1. 0.]\n",
            " [0. 1. 0. 0. 1.]\n",
            " [1. 1. 1. 1. 0.]\n",
            " [1. 0. 0. 0. 1.]\n",
            " [0. 0. 0. 1. 1.]\n",
            " [1. 1. 0. 0. 1.]\n",
            " [0. 1. 0. 0. 0.]\n",
            " [0. 1. 1. 0. 0.]\n",
            " [0. 1. 0. 1. 1.]\n",
            " [0. 1. 0. 0. 1.]\n",
            " [0. 0. 1. 1. 1.]\n",
            " [0. 0. 0. 1. 1.]\n",
            " [0. 0. 1. 0. 0.]\n",
            " [0. 0. 1. 1. 1.]\n",
            " [1. 0. 0. 0. 0.]\n",
            " [1. 1. 1. 0. 1.]\n",
            " [0. 0. 1. 1. 1.]\n",
            " [0. 1. 0. 0. 0.]\n",
            " [0. 0. 1. 1. 0.]\n",
            " [0. 1. 0. 0. 1.]\n",
            " [0. 0. 1. 0. 0.]\n",
            " [0. 1. 0. 0. 0.]\n",
            " [1. 0. 0. 0. 1.]\n",
            " [0. 1. 0. 0. 0.]\n",
            " [0. 1. 1. 0. 1.]\n",
            " [0. 0. 1. 0. 0.]\n",
            " [0. 0. 1. 0. 0.]\n",
            " [0. 0. 0. 1. 1.]\n",
            " [0. 0. 1. 0. 0.]\n",
            " [0. 0. 1. 1. 0.]\n",
            " [0. 1. 0. 0. 0.]\n",
            " [0. 1. 1. 1. 1.]\n",
            " [1. 1. 0. 0. 1.]\n",
            " [0. 0. 1. 1. 0.]\n",
            " [0. 0. 1. 1. 0.]\n",
            " [0. 0. 1. 1. 1.]\n",
            " [0. 0. 1. 1. 1.]\n",
            " [0. 1. 0. 0. 0.]\n",
            " [0. 1. 0. 1. 0.]\n",
            " [1. 1. 0. 0. 1.]\n",
            " [0. 1. 0. 0. 1.]\n",
            " [0. 0. 1. 1. 1.]\n",
            " [0. 1. 0. 0. 1.]\n",
            " [0. 1. 0. 1. 1.]\n",
            " [0. 1. 0. 0. 1.]\n",
            " [1. 0. 0. 0. 0.]\n",
            " [1. 0. 0. 1. 1.]\n",
            " [0. 1. 1. 1. 1.]\n",
            " [1. 0. 0. 0. 1.]\n",
            " [0. 0. 1. 0. 1.]\n",
            " [0. 1. 1. 1. 0.]\n",
            " [1. 1. 0. 1. 1.]\n",
            " [1. 0. 1. 0. 1.]\n",
            " [0. 0. 1. 1. 1.]\n",
            " [1. 1. 1. 1. 0.]\n",
            " [0. 1. 0. 0. 1.]\n",
            " [0. 1. 0. 0. 1.]\n",
            " [1. 1. 0. 1. 1.]]\n"
          ],
          "name": "stdout"
        }
      ]
    },
    {
      "cell_type": "code",
      "metadata": {
        "id": "1AcRkMiT7ohe",
        "colab_type": "code",
        "colab": {
          "base_uri": "https://localhost:8080/",
          "height": 34
        },
        "outputId": "0788f4b0-159c-458c-ad26-9d36ef68afeb"
      },
      "source": [
        "n_samples, n_features = X.shape\n",
        "features = [\"bread\",\"milk\",\"cheese\",\"apples\",\"bananas\"]\n",
        "num_apple_purchases = 0\n",
        "for sample in X:\n",
        "    if sample[3] == 1:  \n",
        "        num_apple_purchases += 1\n",
        "print(\"{0} people bought Apples\".format(num_apple_purchases))"
      ],
      "execution_count": 7,
      "outputs": [
        {
          "output_type": "stream",
          "text": [
            "43 people bought Apples\n"
          ],
          "name": "stdout"
        }
      ]
    },
    {
      "cell_type": "code",
      "metadata": {
        "id": "71SZInxt704x",
        "colab_type": "code",
        "colab": {
          "base_uri": "https://localhost:8080/",
          "height": 51
        },
        "outputId": "46db0715-def3-4577-94e4-a36edb7d1be2"
      },
      "source": [
        "rule_valid = 0\n",
        "rule_invalid = 0\n",
        "for sample in X:\n",
        "    if sample[3] == 1:  # This person bought Apples\n",
        "        if sample[4] == 1:\n",
        "            # This person bought both Apples and Bananas\n",
        "            rule_valid += 1\n",
        "        else:\n",
        "            # This person bought Apples, but not Bananas\n",
        "            rule_invalid += 1\n",
        "print(\"{0} cases of the rule being valid were discovered\".format(rule_valid))\n",
        "print(\"{0} cases of the rule being invalid were discovered\".format(rule_invalid))"
      ],
      "execution_count": 8,
      "outputs": [
        {
          "output_type": "stream",
          "text": [
            "27 cases of the rule being valid were discovered\n",
            "16 cases of the rule being invalid were discovered\n"
          ],
          "name": "stdout"
        }
      ]
    },
    {
      "cell_type": "code",
      "metadata": {
        "id": "g5lk1KGE76eQ",
        "colab_type": "code",
        "colab": {
          "base_uri": "https://localhost:8080/",
          "height": 51
        },
        "outputId": "d81f8d0c-3db5-471c-b3b4-b90b104a8ce6"
      },
      "source": [
        "support = rule_valid  \n",
        "confidence = rule_valid / num_apple_purchases\n",
        "print(\"The support is {0} and the confidence is {1:.3f}.\".format(support, confidence))\n",
        "print(\"As a percentage, that is {0:.1f}%.\".format(100 * confidence))"
      ],
      "execution_count": 9,
      "outputs": [
        {
          "output_type": "stream",
          "text": [
            "The support is 27 and the confidence is 0.628.\n",
            "As a percentage, that is 62.8%.\n"
          ],
          "name": "stdout"
        }
      ]
    },
    {
      "cell_type": "code",
      "metadata": {
        "id": "v4UyBQeL79Jf",
        "colab_type": "code",
        "colab": {}
      },
      "source": [
        "from collections import defaultdict\n",
        "\n",
        "valid_rules = defaultdict(int)\n",
        "invalid_rules = defaultdict(int)\n",
        "num_occurences = defaultdict(int)\n",
        "\n",
        "for sample in X:\n",
        "    for premise in range(n_features):\n",
        "        if sample[premise] == 0: continue\n",
        "        \n",
        "        num_occurences[premise] += 1\n",
        "        for conclusion in range(n_features):\n",
        "            if premise == conclusion:  \n",
        "                continue\n",
        "            if sample[conclusion] == 1:\n",
        "                \n",
        "                valid_rules[(premise, conclusion)] += 1\n",
        "            else:\n",
        "                \n",
        "                invalid_rules[(premise, conclusion)] += 1\n",
        "support = valid_rules\n",
        "confidence = defaultdict(float)\n",
        "for premise, conclusion in valid_rules.keys():\n",
        "    confidence[(premise, conclusion)] = valid_rules[(premise, conclusion)] / num_occurences[premise]"
      ],
      "execution_count": 10,
      "outputs": []
    },
    {
      "cell_type": "code",
      "metadata": {
        "id": "Zk_2Wgzi8Ti3",
        "colab_type": "code",
        "colab": {
          "base_uri": "https://localhost:8080/",
          "height": 1000
        },
        "outputId": "02471e48-10b6-4ddb-b953-0e6dc9bd5cf7"
      },
      "source": [
        "for premise, conclusion in confidence:\n",
        "    premise_name = features[premise]\n",
        "    conclusion_name = features[conclusion]\n",
        "    print(\"Rule: If a person buys {0} they will also buy {1}\".format(premise_name, conclusion_name))\n",
        "    print(\" - Confidence: {0:.3f}\".format(confidence[(premise, conclusion)]))\n",
        "    print(\" - Support: {0}\".format(support[(premise, conclusion)]))\n",
        "    print(\"\")"
      ],
      "execution_count": 11,
      "outputs": [
        {
          "output_type": "stream",
          "text": [
            "Rule: If a person buys bread they will also buy milk\n",
            " - Confidence: 0.464\n",
            " - Support: 13\n",
            "\n",
            "Rule: If a person buys milk they will also buy bread\n",
            " - Confidence: 0.250\n",
            " - Support: 13\n",
            "\n",
            "Rule: If a person buys cheese they will also buy bananas\n",
            " - Confidence: 0.513\n",
            " - Support: 20\n",
            "\n",
            "Rule: If a person buys bananas they will also buy cheese\n",
            " - Confidence: 0.351\n",
            " - Support: 20\n",
            "\n",
            "Rule: If a person buys cheese they will also buy apples\n",
            " - Confidence: 0.564\n",
            " - Support: 22\n",
            "\n",
            "Rule: If a person buys apples they will also buy cheese\n",
            " - Confidence: 0.512\n",
            " - Support: 22\n",
            "\n",
            "Rule: If a person buys apples they will also buy bananas\n",
            " - Confidence: 0.628\n",
            " - Support: 27\n",
            "\n",
            "Rule: If a person buys bananas they will also buy apples\n",
            " - Confidence: 0.474\n",
            " - Support: 27\n",
            "\n",
            "Rule: If a person buys milk they will also buy apples\n",
            " - Confidence: 0.346\n",
            " - Support: 18\n",
            "\n",
            "Rule: If a person buys apples they will also buy milk\n",
            " - Confidence: 0.419\n",
            " - Support: 18\n",
            "\n",
            "Rule: If a person buys milk they will also buy bananas\n",
            " - Confidence: 0.519\n",
            " - Support: 27\n",
            "\n",
            "Rule: If a person buys bananas they will also buy milk\n",
            " - Confidence: 0.474\n",
            " - Support: 27\n",
            "\n",
            "Rule: If a person buys bread they will also buy cheese\n",
            " - Confidence: 0.179\n",
            " - Support: 5\n",
            "\n",
            "Rule: If a person buys cheese they will also buy bread\n",
            " - Confidence: 0.128\n",
            " - Support: 5\n",
            "\n",
            "Rule: If a person buys bread they will also buy bananas\n",
            " - Confidence: 0.571\n",
            " - Support: 16\n",
            "\n",
            "Rule: If a person buys bananas they will also buy bread\n",
            " - Confidence: 0.281\n",
            " - Support: 16\n",
            "\n",
            "Rule: If a person buys milk they will also buy cheese\n",
            " - Confidence: 0.212\n",
            " - Support: 11\n",
            "\n",
            "Rule: If a person buys cheese they will also buy milk\n",
            " - Confidence: 0.282\n",
            " - Support: 11\n",
            "\n",
            "Rule: If a person buys bread they will also buy apples\n",
            " - Confidence: 0.321\n",
            " - Support: 9\n",
            "\n",
            "Rule: If a person buys apples they will also buy bread\n",
            " - Confidence: 0.209\n",
            " - Support: 9\n",
            "\n"
          ],
          "name": "stdout"
        }
      ]
    },
    {
      "cell_type": "code",
      "metadata": {
        "id": "sfs4VJDf847u",
        "colab_type": "code",
        "colab": {}
      },
      "source": [
        "def print_rule(premise, conclusion, support, confidence, features):\n",
        "    premise_name = features[premise]\n",
        "    conclusion_name = features[conclusion]\n",
        "    print(\"Rule: If a person buys {0} they will also buy {1}\".format(premise_name, conclusion_name))\n",
        "    print(\" - Confidence: {0:.3f}\".format(confidence[(premise, conclusion)]))\n",
        "    print(\" - Support: {0}\".format(support[(premise, conclusion)]))\n",
        "    print(\"\")"
      ],
      "execution_count": 12,
      "outputs": []
    },
    {
      "cell_type": "code",
      "metadata": {
        "id": "A70hSHc18-ZZ",
        "colab_type": "code",
        "colab": {
          "base_uri": "https://localhost:8080/",
          "height": 85
        },
        "outputId": "8acd2416-93d5-468f-e9b6-ff0ae3ab8050"
      },
      "source": [
        "premise = 1\n",
        "conclusion = 3\n",
        "print_rule(premise, conclusion, support, confidence, features)"
      ],
      "execution_count": 13,
      "outputs": [
        {
          "output_type": "stream",
          "text": [
            "Rule: If a person buys milk they will also buy apples\n",
            " - Confidence: 0.346\n",
            " - Support: 18\n",
            "\n"
          ],
          "name": "stdout"
        }
      ]
    },
    {
      "cell_type": "code",
      "metadata": {
        "id": "S-ncgUht9A0g",
        "colab_type": "code",
        "colab": {
          "base_uri": "https://localhost:8080/",
          "height": 357
        },
        "outputId": "447819de-38e8-436c-e720-dd7fc1941436"
      },
      "source": [
        "from pprint import pprint\n",
        "pprint(list(support.items()))"
      ],
      "execution_count": 14,
      "outputs": [
        {
          "output_type": "stream",
          "text": [
            "[((0, 1), 13),\n",
            " ((1, 0), 13),\n",
            " ((2, 4), 20),\n",
            " ((4, 2), 20),\n",
            " ((2, 3), 22),\n",
            " ((3, 2), 22),\n",
            " ((3, 4), 27),\n",
            " ((4, 3), 27),\n",
            " ((1, 3), 18),\n",
            " ((3, 1), 18),\n",
            " ((1, 4), 27),\n",
            " ((4, 1), 27),\n",
            " ((0, 2), 5),\n",
            " ((2, 0), 5),\n",
            " ((0, 4), 16),\n",
            " ((4, 0), 16),\n",
            " ((1, 2), 11),\n",
            " ((2, 1), 11),\n",
            " ((0, 3), 9),\n",
            " ((3, 0), 9)]\n"
          ],
          "name": "stdout"
        }
      ]
    },
    {
      "cell_type": "code",
      "metadata": {
        "id": "OyEHyQx09Cxh",
        "colab_type": "code",
        "colab": {}
      },
      "source": [
        "from operator import itemgetter\n",
        "sorted_support = sorted(support.items(), key=itemgetter(1), reverse=True)"
      ],
      "execution_count": 15,
      "outputs": []
    },
    {
      "cell_type": "code",
      "metadata": {
        "id": "te3mB1XX9G5E",
        "colab_type": "code",
        "colab": {
          "base_uri": "https://localhost:8080/",
          "height": 697
        },
        "outputId": "a97e8bc1-0ecd-42bc-c1be-37034c82a896"
      },
      "source": [
        "for index in range(8):\n",
        "    print(\"Rule #{0}\".format(index + 1))\n",
        "    (premise, conclusion) = sorted_support[index][0]\n",
        "    print_rule(premise, conclusion, support, confidence, features)"
      ],
      "execution_count": 16,
      "outputs": [
        {
          "output_type": "stream",
          "text": [
            "Rule #1\n",
            "Rule: If a person buys apples they will also buy bananas\n",
            " - Confidence: 0.628\n",
            " - Support: 27\n",
            "\n",
            "Rule #2\n",
            "Rule: If a person buys bananas they will also buy apples\n",
            " - Confidence: 0.474\n",
            " - Support: 27\n",
            "\n",
            "Rule #3\n",
            "Rule: If a person buys milk they will also buy bananas\n",
            " - Confidence: 0.519\n",
            " - Support: 27\n",
            "\n",
            "Rule #4\n",
            "Rule: If a person buys bananas they will also buy milk\n",
            " - Confidence: 0.474\n",
            " - Support: 27\n",
            "\n",
            "Rule #5\n",
            "Rule: If a person buys cheese they will also buy apples\n",
            " - Confidence: 0.564\n",
            " - Support: 22\n",
            "\n",
            "Rule #6\n",
            "Rule: If a person buys apples they will also buy cheese\n",
            " - Confidence: 0.512\n",
            " - Support: 22\n",
            "\n",
            "Rule #7\n",
            "Rule: If a person buys cheese they will also buy bananas\n",
            " - Confidence: 0.513\n",
            " - Support: 20\n",
            "\n",
            "Rule #8\n",
            "Rule: If a person buys bananas they will also buy cheese\n",
            " - Confidence: 0.351\n",
            " - Support: 20\n",
            "\n"
          ],
          "name": "stdout"
        }
      ]
    },
    {
      "cell_type": "code",
      "metadata": {
        "id": "mPld4WWW9IJ3",
        "colab_type": "code",
        "colab": {}
      },
      "source": [
        "sorted_confidence = sorted(confidence.items(), key=itemgetter(1), reverse=True)"
      ],
      "execution_count": 17,
      "outputs": []
    },
    {
      "cell_type": "code",
      "metadata": {
        "id": "ARwsDFky9KaU",
        "colab_type": "code",
        "colab": {
          "base_uri": "https://localhost:8080/",
          "height": 442
        },
        "outputId": "d0b0bd99-7d56-4bee-8a12-027b6fb59cbe"
      },
      "source": [
        "for index in range(5):\n",
        "    print(\"Rule #{0}\".format(index + 1))\n",
        "    (premise, conclusion) = sorted_confidence[index][0]\n",
        "    print_rule(premise, conclusion, support, confidence, features)"
      ],
      "execution_count": 18,
      "outputs": [
        {
          "output_type": "stream",
          "text": [
            "Rule #1\n",
            "Rule: If a person buys apples they will also buy bananas\n",
            " - Confidence: 0.628\n",
            " - Support: 27\n",
            "\n",
            "Rule #2\n",
            "Rule: If a person buys bread they will also buy bananas\n",
            " - Confidence: 0.571\n",
            " - Support: 16\n",
            "\n",
            "Rule #3\n",
            "Rule: If a person buys cheese they will also buy apples\n",
            " - Confidence: 0.564\n",
            " - Support: 22\n",
            "\n",
            "Rule #4\n",
            "Rule: If a person buys milk they will also buy bananas\n",
            " - Confidence: 0.519\n",
            " - Support: 27\n",
            "\n",
            "Rule #5\n",
            "Rule: If a person buys cheese they will also buy bananas\n",
            " - Confidence: 0.513\n",
            " - Support: 20\n",
            "\n"
          ],
          "name": "stdout"
        }
      ]
    }
  ]
}