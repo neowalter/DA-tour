{
  "nbformat": 4,
  "nbformat_minor": 0,
  "metadata": {
    "colab": {
      "name": "charpter4.ipynb",
      "provenance": [],
      "authorship_tag": "ABX9TyMyqhsJASIlhzgnNA8ARtfn"
    },
    "kernelspec": {
      "name": "python3",
      "display_name": "Python 3"
    }
  },
  "cells": [
    {
      "cell_type": "code",
      "metadata": {
        "id": "el_o2CAjnE0i",
        "colab_type": "code",
        "colab": {
          "base_uri": "https://localhost:8080/",
          "height": 204
        },
        "outputId": "76e0cefd-f2dd-4e7e-b118-7bb9ebf5d07b"
      },
      "source": [
        "import pandas as pd\n",
        "ratings_filename = ('https://raw.githubusercontent.com/neowalter/DA-tour/master/charpter4/u.data')\n",
        "all_ratings = pd.read_csv(ratings_filename, delimiter=\"\\t\", header=None, \n",
        "                            names = [\"UserID\", \"MovieID\", \"Rating\", \"Datetime\"])\n",
        "all_ratings[\"Datetime\"] = pd.to_datetime(all_ratings['Datetime'], unit='s')\n",
        "all_ratings.head()"
      ],
      "execution_count": 1,
      "outputs": [
        {
          "output_type": "execute_result",
          "data": {
            "text/html": [
              "<div>\n",
              "<style scoped>\n",
              "    .dataframe tbody tr th:only-of-type {\n",
              "        vertical-align: middle;\n",
              "    }\n",
              "\n",
              "    .dataframe tbody tr th {\n",
              "        vertical-align: top;\n",
              "    }\n",
              "\n",
              "    .dataframe thead th {\n",
              "        text-align: right;\n",
              "    }\n",
              "</style>\n",
              "<table border=\"1\" class=\"dataframe\">\n",
              "  <thead>\n",
              "    <tr style=\"text-align: right;\">\n",
              "      <th></th>\n",
              "      <th>UserID</th>\n",
              "      <th>MovieID</th>\n",
              "      <th>Rating</th>\n",
              "      <th>Datetime</th>\n",
              "    </tr>\n",
              "  </thead>\n",
              "  <tbody>\n",
              "    <tr>\n",
              "      <th>0</th>\n",
              "      <td>196</td>\n",
              "      <td>242</td>\n",
              "      <td>3</td>\n",
              "      <td>1997-12-04 15:55:49</td>\n",
              "    </tr>\n",
              "    <tr>\n",
              "      <th>1</th>\n",
              "      <td>186</td>\n",
              "      <td>302</td>\n",
              "      <td>3</td>\n",
              "      <td>1998-04-04 19:22:22</td>\n",
              "    </tr>\n",
              "    <tr>\n",
              "      <th>2</th>\n",
              "      <td>22</td>\n",
              "      <td>377</td>\n",
              "      <td>1</td>\n",
              "      <td>1997-11-07 07:18:36</td>\n",
              "    </tr>\n",
              "    <tr>\n",
              "      <th>3</th>\n",
              "      <td>244</td>\n",
              "      <td>51</td>\n",
              "      <td>2</td>\n",
              "      <td>1997-11-27 05:02:03</td>\n",
              "    </tr>\n",
              "    <tr>\n",
              "      <th>4</th>\n",
              "      <td>166</td>\n",
              "      <td>346</td>\n",
              "      <td>1</td>\n",
              "      <td>1998-02-02 05:33:16</td>\n",
              "    </tr>\n",
              "  </tbody>\n",
              "</table>\n",
              "</div>"
            ],
            "text/plain": [
              "   UserID  MovieID  Rating            Datetime\n",
              "0     196      242       3 1997-12-04 15:55:49\n",
              "1     186      302       3 1998-04-04 19:22:22\n",
              "2      22      377       1 1997-11-07 07:18:36\n",
              "3     244       51       2 1997-11-27 05:02:03\n",
              "4     166      346       1 1998-02-02 05:33:16"
            ]
          },
          "metadata": {
            "tags": []
          },
          "execution_count": 1
        }
      ]
    },
    {
      "cell_type": "code",
      "metadata": {
        "id": "fa6kum7fnKEE",
        "colab_type": "code",
        "colab": {
          "base_uri": "https://localhost:8080/",
          "height": 235
        },
        "outputId": "9dc132ec-ea45-44f5-eb47-0508602170f0"
      },
      "source": [
        "all_ratings[\"Favorable\"] = all_ratings[\"Rating\"] > 3\n",
        "ratings = all_ratings[all_ratings['UserID'].isin(range(200))]\n",
        "favorable_ratings = ratings[ratings[\"Favorable\"]]\n",
        "favorable_reviews_by_users = dict((k, frozenset(v.values)) for k, v in                                                         favorable_ratings.groupby(\"UserID\")[\"MovieID\"])\n",
        "num_favorable_by_movie = ratings[[\"MovieID\", \"Favorable\"]].groupby(\"MovieID\").sum()\n",
        "num_favorable_by_movie.sort_values(by=\"Favorable\", ascending=False).head()"
      ],
      "execution_count": 2,
      "outputs": [
        {
          "output_type": "execute_result",
          "data": {
            "text/html": [
              "<div>\n",
              "<style scoped>\n",
              "    .dataframe tbody tr th:only-of-type {\n",
              "        vertical-align: middle;\n",
              "    }\n",
              "\n",
              "    .dataframe tbody tr th {\n",
              "        vertical-align: top;\n",
              "    }\n",
              "\n",
              "    .dataframe thead th {\n",
              "        text-align: right;\n",
              "    }\n",
              "</style>\n",
              "<table border=\"1\" class=\"dataframe\">\n",
              "  <thead>\n",
              "    <tr style=\"text-align: right;\">\n",
              "      <th></th>\n",
              "      <th>Favorable</th>\n",
              "    </tr>\n",
              "    <tr>\n",
              "      <th>MovieID</th>\n",
              "      <th></th>\n",
              "    </tr>\n",
              "  </thead>\n",
              "  <tbody>\n",
              "    <tr>\n",
              "      <th>50</th>\n",
              "      <td>100.0</td>\n",
              "    </tr>\n",
              "    <tr>\n",
              "      <th>100</th>\n",
              "      <td>89.0</td>\n",
              "    </tr>\n",
              "    <tr>\n",
              "      <th>258</th>\n",
              "      <td>83.0</td>\n",
              "    </tr>\n",
              "    <tr>\n",
              "      <th>181</th>\n",
              "      <td>79.0</td>\n",
              "    </tr>\n",
              "    <tr>\n",
              "      <th>174</th>\n",
              "      <td>74.0</td>\n",
              "    </tr>\n",
              "  </tbody>\n",
              "</table>\n",
              "</div>"
            ],
            "text/plain": [
              "         Favorable\n",
              "MovieID           \n",
              "50           100.0\n",
              "100           89.0\n",
              "258           83.0\n",
              "181           79.0\n",
              "174           74.0"
            ]
          },
          "metadata": {
            "tags": []
          },
          "execution_count": 2
        }
      ]
    },
    {
      "cell_type": "code",
      "metadata": {
        "id": "QS1qfnr_nNAb",
        "colab_type": "code",
        "colab": {
          "base_uri": "https://localhost:8080/",
          "height": 204
        },
        "outputId": "e6eb7dd2-a28c-4d77-f645-3e2d6999beba"
      },
      "source": [
        "from collections import defaultdict\n",
        "\n",
        "def find_frequent_itemsets(favorable_reviews_by_users, k_1_itemsets, min_support):\n",
        "    counts = defaultdict(int)\n",
        "    for user, reviews in favorable_reviews_by_users.items():\n",
        "        for itemset in k_1_itemsets:\n",
        "            if itemset.issubset(reviews):\n",
        "                for other_reviewed_movie in reviews - itemset:\n",
        "                    current_superset = itemset | frozenset((other_reviewed_movie,))\n",
        "                    counts[current_superset] += 1\n",
        "    return dict([(itemset, frequency) for itemset, frequency in counts.items() if frequency >=                                                  min_support])\n",
        "\n",
        "frequent_itemsets = {}\n",
        "min_support = 50      # 这里的数值是%形式，可以修改测试算法对于不同项目集的表现\n",
        "frequent_itemsets[1] = dict((frozenset((movie_id,)), row[\"Favorable\"])\n",
        "                            for movie_id, row in num_favorable_by_movie.iterrows()\n",
        "                            if row[\"Favorable\"] > min_support)\n",
        "\n",
        "print(\"There are {} movies with more than {} favorable reviews\".format(len(frequent_itemsets[1]),                                                                           min_support))\n",
        "import sys\n",
        "sys.stdout.flush()\n",
        "for k in range(2, 20):                      \n",
        "    # 使用长度为k-1的频繁项目集，生成长度为k的候选项目。\n",
        "    cur_frequent_itemsets = find_frequent_itemsets(favorable_reviews_by_users, frequent_itemsets                                                    [k-1], min_support)\n",
        "    if len(cur_frequent_itemsets) == 0:\n",
        "        print(\"Did not find any frequent itemsets of length {}\".format(k))\n",
        "        sys.stdout.flush()\n",
        "        break\n",
        "    else:\n",
        "        print(\"I found {} frequent itemsets of length {}\".format(len(cur_frequent_itemsets), k))\n",
        "        sys.stdout.flush()\n",
        "        frequent_itemsets[k] = cur_frequent_itemsets\n",
        "\n",
        "#del frequent_itemsets[1]"
      ],
      "execution_count": 3,
      "outputs": [
        {
          "output_type": "stream",
          "text": [
            "There are 16 movies with more than 50 favorable reviews\n",
            "I found 93 frequent itemsets of length 2\n",
            "I found 295 frequent itemsets of length 3\n",
            "I found 593 frequent itemsets of length 4\n",
            "I found 785 frequent itemsets of length 5\n",
            "I found 677 frequent itemsets of length 6\n",
            "I found 373 frequent itemsets of length 7\n",
            "I found 126 frequent itemsets of length 8\n",
            "I found 24 frequent itemsets of length 9\n",
            "I found 2 frequent itemsets of length 10\n",
            "Did not find any frequent itemsets of length 11\n"
          ],
          "name": "stdout"
        }
      ]
    },
    {
      "cell_type": "code",
      "metadata": {
        "id": "lLA3TeaKnRGD",
        "colab_type": "code",
        "colab": {
          "base_uri": "https://localhost:8080/",
          "height": 34
        },
        "outputId": "5d4fe702-33dd-4139-fc13-14044ad818db"
      },
      "source": [
        "candidate_rules = []\n",
        "for itemset_length, itemset_counts in frequent_itemsets.items():\n",
        "    for itemset in itemset_counts.keys():\n",
        "        for conclusion in itemset:\n",
        "            premise = itemset - set((conclusion,))\n",
        "            candidate_rules.append((premise, conclusion))\n",
        "print(\"There are {} candidate rules\".format(len(candidate_rules)))"
      ],
      "execution_count": 4,
      "outputs": [
        {
          "output_type": "stream",
          "text": [
            "There are 15301 candidate rules\n"
          ],
          "name": "stdout"
        }
      ]
    },
    {
      "cell_type": "code",
      "metadata": {
        "id": "LIOL-nTJnVcv",
        "colab_type": "code",
        "colab": {
          "base_uri": "https://localhost:8080/",
          "height": 357
        },
        "outputId": "00ec3ae7-4a7d-486c-8bcc-c02ae4b56b82"
      },
      "source": [
        "correct_counts = defaultdict(int)\n",
        "incorrect_counts = defaultdict(int)\n",
        "for user, reviews in favorable_reviews_by_users.items():\n",
        "    for candidate_rule in candidate_rules:\n",
        "        premise, conclusion = candidate_rule\n",
        "        if premise.issubset(reviews):\n",
        "            if conclusion in reviews:\n",
        "                correct_counts[candidate_rule] += 1\n",
        "            else:\n",
        "                incorrect_counts[candidate_rule] += 1\n",
        "\n",
        "rule_confidence = {candidate_rule: correct_counts[candidate_rule] / float(correct_counts                                [candidate_rule] + incorrect_counts[candidate_rule])\n",
        "                            for candidate_rule in candidate_rules}\n",
        "\n",
        "from operator import itemgetter\n",
        "sorted_confidence = sorted(rule_confidence.items(), key=itemgetter(1), reverse=True) \n",
        "for index in range(5):\n",
        "    print(\"Rule #{0}\".format(index + 1))\n",
        "    (premise, conclusion) = sorted_confidence[index][0]\n",
        "    print(\"Rule: If a person recommends {0} they will also recommend {1}\".format(premise, conclusion))\n",
        "    print(\" - Confidence: {0:.3f}\".format(rule_confidence[(premise, conclusion)]))\n",
        "    print(\"\")         "
      ],
      "execution_count": 5,
      "outputs": [
        {
          "output_type": "stream",
          "text": [
            "Rule #1\n",
            "Rule: If a person recommends frozenset({98, 181}) they will also recommend 50\n",
            " - Confidence: 1.000\n",
            "\n",
            "Rule #2\n",
            "Rule: If a person recommends frozenset({172, 79}) they will also recommend 174\n",
            " - Confidence: 1.000\n",
            "\n",
            "Rule #3\n",
            "Rule: If a person recommends frozenset({258, 172}) they will also recommend 174\n",
            " - Confidence: 1.000\n",
            "\n",
            "Rule #4\n",
            "Rule: If a person recommends frozenset({1, 181, 7}) they will also recommend 50\n",
            " - Confidence: 1.000\n",
            "\n",
            "Rule #5\n",
            "Rule: If a person recommends frozenset({1, 172, 7}) they will also recommend 174\n",
            " - Confidence: 1.000\n",
            "\n"
          ],
          "name": "stdout"
        }
      ]
    },
    {
      "cell_type": "code",
      "metadata": {
        "id": "U8nSbvjtnY0J",
        "colab_type": "code",
        "colab": {
          "base_uri": "https://localhost:8080/",
          "height": 357
        },
        "outputId": "6a717ded-c211-46ed-adbb-f08ba3eacef0"
      },
      "source": [
        "name_file = ('https://raw.githubusercontent.com/neowalter/DA-tour/master/charpter4/u.item')\n",
        "movie_name_data = pd.read_csv(name_file, delimiter=\"|\", header=None, encoding = \"mac-roman\")\n",
        "movie_name_data.columns = [\"MovieID\", \"Title\", \"Release Date\", \"Video Release\", \n",
        "                           \"IMDB\", \"<UNK>\", \"Action\", \"Adventure\", \"Animation\", \"Children's\", \n",
        "                           \"Comedy\", \"Crime\", \"Documentary\", \"Drama\", \"Fantasy\", \"Film-Noir\", \n",
        "                           \"Horror\", \"Musical\", \"Mystery\", \"Romance\", \"Sci-Fi\", \"Thriller\",                                 \"War\", \"Western\"]\n",
        "\n",
        "def get_movie_name(movie_id):\n",
        "    title_object = movie_name_data[movie_name_data[\"MovieID\"] == movie_id][\"Title\"]\n",
        "    title = title_object.values[0]\n",
        "    return title\n",
        "\n",
        "\n",
        "for index in range(5):\n",
        "    print(\"Rule #{0}\".format(index + 1))\n",
        "    (premise, conclusion) = sorted_confidence[index][0]\n",
        "    premise_names = \", \".join(get_movie_name(idx) for idx in premise)\n",
        "    conclusion_name = get_movie_name(conclusion)\n",
        "    print(\"Rule: If a person recommends {0} they will also recommend {1}\".format(premise_names,             conclusion_name))\n",
        "    print(\" - Confidence: {0:.3f}\".format(rule_confidence[(premise, conclusion)]))\n",
        "    print(\"\")"
      ],
      "execution_count": 6,
      "outputs": [
        {
          "output_type": "stream",
          "text": [
            "Rule #1\n",
            "Rule: If a person recommends Silence of the Lambs, The (1991), Return of the Jedi (1983) they will also recommend Star Wars (1977)\n",
            " - Confidence: 1.000\n",
            "\n",
            "Rule #2\n",
            "Rule: If a person recommends Empire Strikes Back, The (1980), Fugitive, The (1993) they will also recommend Raiders of the Lost Ark (1981)\n",
            " - Confidence: 1.000\n",
            "\n",
            "Rule #3\n",
            "Rule: If a person recommends Contact (1997), Empire Strikes Back, The (1980) they will also recommend Raiders of the Lost Ark (1981)\n",
            " - Confidence: 1.000\n",
            "\n",
            "Rule #4\n",
            "Rule: If a person recommends Toy Story (1995), Return of the Jedi (1983), Twelve Monkeys (1995) they will also recommend Star Wars (1977)\n",
            " - Confidence: 1.000\n",
            "\n",
            "Rule #5\n",
            "Rule: If a person recommends Toy Story (1995), Empire Strikes Back, The (1980), Twelve Monkeys (1995) they will also recommend Raiders of the Lost Ark (1981)\n",
            " - Confidence: 1.000\n",
            "\n"
          ],
          "name": "stdout"
        }
      ]
    },
    {
      "cell_type": "code",
      "metadata": {
        "id": "c0TyKuHCnZo7",
        "colab_type": "code",
        "colab": {
          "base_uri": "https://localhost:8080/",
          "height": 442
        },
        "outputId": "cae8f7e0-c772-47a5-bd8f-b3bf0f878a44"
      },
      "source": [
        "test_dataset = all_ratings[~all_ratings['UserID'].isin(range(200))]\n",
        "test_favorable = test_dataset[test_dataset[\"Favorable\"]]\n",
        "test_favorable_by_users = dict((k, frozenset(v.values)) for k, v in test_favorable.groupby(\"UserID\")[\"MovieID\"])\n",
        "\n",
        "correct_counts = defaultdict(int)\n",
        "incorrect_counts = defaultdict(int)\n",
        "for user, reviews in test_favorable_by_users.items():\n",
        "    for candidate_rule in candidate_rules:\n",
        "        premise, conclusion = candidate_rule\n",
        "        if premise.issubset(reviews):\n",
        "            if conclusion in reviews:\n",
        "                correct_counts[candidate_rule] += 1\n",
        "            else:\n",
        "                incorrect_counts[candidate_rule] += 1\n",
        "\n",
        "test_confidence = {candidate_rule:\n",
        "                   (correct_counts[candidate_rule] / float(correct_counts[candidate_rule] + incorrect_counts[candidate_rule]))\n",
        "                   for candidate_rule in rule_confidence}\n",
        "\n",
        "\n",
        "for index in range(5):\n",
        "    print(\"Rule #{0}\".format(index + 1))\n",
        "    (premise, conclusion) = sorted_confidence[index][0]\n",
        "    premise_names = \", \".join(get_movie_name(idx) for idx in premise)\n",
        "    conclusion_name = get_movie_name(conclusion)\n",
        "    print(\"Rule: If a person recommends {0} they will also recommend {1}\".format(premise_names, conclusion_name))\n",
        "    print(\" - Train Confidence: {0:.3f}\".format(rule_confidence.get((premise, conclusion), -1)))\n",
        "    print(\" - Test Confidence: {0:.3f}\".format(test_confidence.get((premise, conclusion), -1)))\n",
        "    print(\"\")"
      ],
      "execution_count": 7,
      "outputs": [
        {
          "output_type": "stream",
          "text": [
            "Rule #1\n",
            "Rule: If a person recommends Silence of the Lambs, The (1991), Return of the Jedi (1983) they will also recommend Star Wars (1977)\n",
            " - Train Confidence: 1.000\n",
            " - Test Confidence: 0.936\n",
            "\n",
            "Rule #2\n",
            "Rule: If a person recommends Empire Strikes Back, The (1980), Fugitive, The (1993) they will also recommend Raiders of the Lost Ark (1981)\n",
            " - Train Confidence: 1.000\n",
            " - Test Confidence: 0.876\n",
            "\n",
            "Rule #3\n",
            "Rule: If a person recommends Contact (1997), Empire Strikes Back, The (1980) they will also recommend Raiders of the Lost Ark (1981)\n",
            " - Train Confidence: 1.000\n",
            " - Test Confidence: 0.841\n",
            "\n",
            "Rule #4\n",
            "Rule: If a person recommends Toy Story (1995), Return of the Jedi (1983), Twelve Monkeys (1995) they will also recommend Star Wars (1977)\n",
            " - Train Confidence: 1.000\n",
            " - Test Confidence: 0.932\n",
            "\n",
            "Rule #5\n",
            "Rule: If a person recommends Toy Story (1995), Empire Strikes Back, The (1980), Twelve Monkeys (1995) they will also recommend Raiders of the Lost Ark (1981)\n",
            " - Train Confidence: 1.000\n",
            " - Test Confidence: 0.903\n",
            "\n"
          ],
          "name": "stdout"
        }
      ]
    }
  ]
}